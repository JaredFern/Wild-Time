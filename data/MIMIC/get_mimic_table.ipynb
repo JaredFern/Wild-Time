{
 "cells": [
  {
   "cell_type": "code",
   "execution_count": 2,
   "metadata": {
    "ExecuteTime": {
     "end_time": "2022-04-24T21:46:11.833998Z",
     "start_time": "2022-04-24T21:46:11.549236Z"
    }
   },
   "outputs": [],
   "source": [
    "import os\n",
    "import sys\n",
    "import csv\n",
    "import json\n",
    "from datetime import datetime, timedelta\n",
    "from collections import Counter, OrderedDict\n",
    "import random\n",
    "import pandas as pd\n",
    "import numpy as np\n",
    "from itertools import chain\n",
    "import tqdm"
   ]
  },
  {
   "cell_type": "code",
   "execution_count": 3,
   "metadata": {
    "ExecuteTime": {
     "end_time": "2022-04-24T21:46:11.839235Z",
     "start_time": "2022-04-24T21:46:11.835866Z"
    }
   },
   "outputs": [],
   "source": [
    "def set_seed(seed):\n",
    "    random.seed(seed)\n",
    "    np.random.seed(seed)\n",
    "    os.environ['PYTHONHASHSEED'] = str(seed)\n",
    "    \n",
    "set_seed(seed=42)"
   ]
  },
  {
   "cell_type": "code",
   "execution_count": 4,
   "metadata": {
    "ExecuteTime": {
     "end_time": "2022-04-24T21:46:11.844249Z",
     "start_time": "2022-04-24T21:46:11.840930Z"
    }
   },
   "outputs": [
    {
     "name": "stdout",
     "output_type": "stream",
     "text": [
      "project_path: /Volumes/GoogleDrive-113362305838314413320/My Drive/Research/Project/Meta_Transfer/Temporal_Robustness/data/MIMIC\n",
      "data_path: /Volumes/GoogleDrive-113362305838314413320/My Drive/Research/Project/Meta_Transfer/Temporal_Robustness/data/MIMIC\n"
     ]
    }
   ],
   "source": [
    "project_path = os.getcwd()\n",
    "data_path = project_path\n",
    "print('project_path:', project_path)\n",
    "print('data_path:', data_path)"
   ]
  },
  {
   "cell_type": "markdown",
   "metadata": {},
   "source": [
    "Download the corresponding tables here https://physionet.org/content/mimiciv/1.0/ (from \"core\" and \"hosp\" modules)\n",
    "\n",
    "- patients.csv\n",
    "- admissions.csv\n",
    "- diagnoses_icd.csv\n",
    "- procedures_icd.csv\n",
    "\n",
    "Decompress the files and put them under `[data_path]/raw/mimic4`"
   ]
  },
  {
   "cell_type": "markdown",
   "metadata": {},
   "source": [
    "Reference: https://mimic.mit.edu/docs/iv/"
   ]
  },
  {
   "cell_type": "markdown",
   "metadata": {},
   "source": [
    "## patients"
   ]
  },
  {
   "cell_type": "code",
   "execution_count": 5,
   "metadata": {
    "ExecuteTime": {
     "end_time": "2022-04-24T21:46:12.018774Z",
     "start_time": "2022-04-24T21:46:11.847727Z"
    }
   },
   "outputs": [
    {
     "name": "stdout",
     "output_type": "stream",
     "text": [
      "(382278, 6)\n"
     ]
    },
    {
     "data": {
      "text/html": [
       "<div>\n",
       "<style scoped>\n",
       "    .dataframe tbody tr th:only-of-type {\n",
       "        vertical-align: middle;\n",
       "    }\n",
       "\n",
       "    .dataframe tbody tr th {\n",
       "        vertical-align: top;\n",
       "    }\n",
       "\n",
       "    .dataframe thead th {\n",
       "        text-align: right;\n",
       "    }\n",
       "</style>\n",
       "<table border=\"1\" class=\"dataframe\">\n",
       "  <thead>\n",
       "    <tr style=\"text-align: right;\">\n",
       "      <th></th>\n",
       "      <th>subject_id</th>\n",
       "      <th>gender</th>\n",
       "      <th>anchor_age</th>\n",
       "      <th>anchor_year</th>\n",
       "      <th>anchor_year_group</th>\n",
       "      <th>dod</th>\n",
       "    </tr>\n",
       "  </thead>\n",
       "  <tbody>\n",
       "    <tr>\n",
       "      <th>0</th>\n",
       "      <td>10000048</td>\n",
       "      <td>F</td>\n",
       "      <td>23</td>\n",
       "      <td>2126</td>\n",
       "      <td>2008 - 2010</td>\n",
       "      <td>NaN</td>\n",
       "    </tr>\n",
       "    <tr>\n",
       "      <th>1</th>\n",
       "      <td>10002723</td>\n",
       "      <td>F</td>\n",
       "      <td>0</td>\n",
       "      <td>2128</td>\n",
       "      <td>2017 - 2019</td>\n",
       "      <td>NaN</td>\n",
       "    </tr>\n",
       "    <tr>\n",
       "      <th>2</th>\n",
       "      <td>10003939</td>\n",
       "      <td>M</td>\n",
       "      <td>0</td>\n",
       "      <td>2184</td>\n",
       "      <td>2008 - 2010</td>\n",
       "      <td>NaN</td>\n",
       "    </tr>\n",
       "    <tr>\n",
       "      <th>3</th>\n",
       "      <td>10004222</td>\n",
       "      <td>M</td>\n",
       "      <td>0</td>\n",
       "      <td>2161</td>\n",
       "      <td>2014 - 2016</td>\n",
       "      <td>NaN</td>\n",
       "    </tr>\n",
       "    <tr>\n",
       "      <th>4</th>\n",
       "      <td>10005325</td>\n",
       "      <td>F</td>\n",
       "      <td>0</td>\n",
       "      <td>2154</td>\n",
       "      <td>2011 - 2013</td>\n",
       "      <td>NaN</td>\n",
       "    </tr>\n",
       "  </tbody>\n",
       "</table>\n",
       "</div>"
      ],
      "text/plain": [
       "   subject_id gender  anchor_age  anchor_year anchor_year_group  dod\n",
       "0    10000048      F          23         2126       2008 - 2010  NaN\n",
       "1    10002723      F           0         2128       2017 - 2019  NaN\n",
       "2    10003939      M           0         2184       2008 - 2010  NaN\n",
       "3    10004222      M           0         2161       2014 - 2016  NaN\n",
       "4    10005325      F           0         2154       2011 - 2013  NaN"
      ]
     },
     "execution_count": 5,
     "metadata": {},
     "output_type": "execute_result"
    }
   ],
   "source": [
    "patients = pd.read_csv(os.path.join(data_path, 'raw/mimic4/patients.csv'))\n",
    "print(patients.shape)\n",
    "patients.head()"
   ]
  },
  {
   "cell_type": "code",
   "execution_count": 6,
   "metadata": {
    "ExecuteTime": {
     "end_time": "2022-04-24T21:46:12.039493Z",
     "start_time": "2022-04-24T21:46:12.020473Z"
    }
   },
   "outputs": [
    {
     "data": {
      "text/plain": [
       "382278"
      ]
     },
     "execution_count": 6,
     "metadata": {},
     "output_type": "execute_result"
    }
   ],
   "source": [
    "patients.subject_id.nunique()"
   ]
  },
  {
   "cell_type": "code",
   "execution_count": 7,
   "metadata": {
    "ExecuteTime": {
     "end_time": "2022-04-24T21:46:12.106571Z",
     "start_time": "2022-04-24T21:46:12.041309Z"
    }
   },
   "outputs": [
    {
     "data": {
      "text/plain": [
       "anchor_year_group\n",
       "2008 - 2010    118616\n",
       "2011 - 2013     92317\n",
       "2014 - 2016     88488\n",
       "2017 - 2019     82857\n",
       "Name: subject_id, dtype: int64"
      ]
     },
     "execution_count": 7,
     "metadata": {},
     "output_type": "execute_result"
    }
   ],
   "source": [
    "patients.groupby('anchor_year_group').subject_id.nunique()"
   ]
  },
  {
   "cell_type": "code",
   "execution_count": 8,
   "metadata": {
    "ExecuteTime": {
     "end_time": "2022-04-24T21:46:12.112313Z",
     "start_time": "2022-04-24T21:46:12.108086Z"
    }
   },
   "outputs": [
    {
     "data": {
      "text/plain": [
       "2010"
      ]
     },
     "execution_count": 8,
     "metadata": {},
     "output_type": "execute_result"
    }
   ],
   "source": [
    "def sample_year(anchor_year_group):\n",
    "    year_min = int(anchor_year_group[:4])\n",
    "    year_max = int(anchor_year_group[-4:])\n",
    "    assert year_max - year_min == 2\n",
    "    return random.randint(year_min, year_max)\n",
    "\n",
    "sample_year('2008 - 2010')"
   ]
  },
  {
   "cell_type": "code",
   "execution_count": 9,
   "metadata": {
    "ExecuteTime": {
     "end_time": "2022-04-24T21:46:12.660556Z",
     "start_time": "2022-04-24T21:46:12.113696Z"
    }
   },
   "outputs": [
    {
     "data": {
      "text/html": [
       "<div>\n",
       "<style scoped>\n",
       "    .dataframe tbody tr th:only-of-type {\n",
       "        vertical-align: middle;\n",
       "    }\n",
       "\n",
       "    .dataframe tbody tr th {\n",
       "        vertical-align: top;\n",
       "    }\n",
       "\n",
       "    .dataframe thead th {\n",
       "        text-align: right;\n",
       "    }\n",
       "</style>\n",
       "<table border=\"1\" class=\"dataframe\">\n",
       "  <thead>\n",
       "    <tr style=\"text-align: right;\">\n",
       "      <th></th>\n",
       "      <th>subject_id</th>\n",
       "      <th>gender</th>\n",
       "      <th>anchor_age</th>\n",
       "      <th>anchor_year</th>\n",
       "      <th>anchor_year_group</th>\n",
       "      <th>dod</th>\n",
       "      <th>real_anchor_year_sample</th>\n",
       "    </tr>\n",
       "  </thead>\n",
       "  <tbody>\n",
       "    <tr>\n",
       "      <th>0</th>\n",
       "      <td>10000048</td>\n",
       "      <td>F</td>\n",
       "      <td>23</td>\n",
       "      <td>2126</td>\n",
       "      <td>2008 - 2010</td>\n",
       "      <td>NaN</td>\n",
       "      <td>2008</td>\n",
       "    </tr>\n",
       "    <tr>\n",
       "      <th>1</th>\n",
       "      <td>10002723</td>\n",
       "      <td>F</td>\n",
       "      <td>0</td>\n",
       "      <td>2128</td>\n",
       "      <td>2017 - 2019</td>\n",
       "      <td>NaN</td>\n",
       "      <td>2017</td>\n",
       "    </tr>\n",
       "    <tr>\n",
       "      <th>2</th>\n",
       "      <td>10003939</td>\n",
       "      <td>M</td>\n",
       "      <td>0</td>\n",
       "      <td>2184</td>\n",
       "      <td>2008 - 2010</td>\n",
       "      <td>NaN</td>\n",
       "      <td>2010</td>\n",
       "    </tr>\n",
       "    <tr>\n",
       "      <th>3</th>\n",
       "      <td>10004222</td>\n",
       "      <td>M</td>\n",
       "      <td>0</td>\n",
       "      <td>2161</td>\n",
       "      <td>2014 - 2016</td>\n",
       "      <td>NaN</td>\n",
       "      <td>2015</td>\n",
       "    </tr>\n",
       "    <tr>\n",
       "      <th>4</th>\n",
       "      <td>10005325</td>\n",
       "      <td>F</td>\n",
       "      <td>0</td>\n",
       "      <td>2154</td>\n",
       "      <td>2011 - 2013</td>\n",
       "      <td>NaN</td>\n",
       "      <td>2011</td>\n",
       "    </tr>\n",
       "  </tbody>\n",
       "</table>\n",
       "</div>"
      ],
      "text/plain": [
       "   subject_id gender  anchor_age  anchor_year anchor_year_group  dod  \\\n",
       "0    10000048      F          23         2126       2008 - 2010  NaN   \n",
       "1    10002723      F           0         2128       2017 - 2019  NaN   \n",
       "2    10003939      M           0         2184       2008 - 2010  NaN   \n",
       "3    10004222      M           0         2161       2014 - 2016  NaN   \n",
       "4    10005325      F           0         2154       2011 - 2013  NaN   \n",
       "\n",
       "   real_anchor_year_sample  \n",
       "0                     2008  \n",
       "1                     2017  \n",
       "2                     2010  \n",
       "3                     2015  \n",
       "4                     2011  "
      ]
     },
     "execution_count": 9,
     "metadata": {},
     "output_type": "execute_result"
    }
   ],
   "source": [
    "patients['real_anchor_year_sample'] = patients.anchor_year_group.apply(lambda x: sample_year(x))\n",
    "patients.head()"
   ]
  },
  {
   "cell_type": "code",
   "execution_count": 10,
   "metadata": {
    "ExecuteTime": {
     "end_time": "2022-04-24T21:46:12.682955Z",
     "start_time": "2022-04-24T21:46:12.662146Z"
    }
   },
   "outputs": [
    {
     "data": {
      "text/html": [
       "<div>\n",
       "<style scoped>\n",
       "    .dataframe tbody tr th:only-of-type {\n",
       "        vertical-align: middle;\n",
       "    }\n",
       "\n",
       "    .dataframe tbody tr th {\n",
       "        vertical-align: top;\n",
       "    }\n",
       "\n",
       "    .dataframe thead th {\n",
       "        text-align: right;\n",
       "    }\n",
       "</style>\n",
       "<table border=\"1\" class=\"dataframe\">\n",
       "  <thead>\n",
       "    <tr style=\"text-align: right;\">\n",
       "      <th></th>\n",
       "      <th>subject_id</th>\n",
       "      <th>gender</th>\n",
       "      <th>anchor_age</th>\n",
       "      <th>anchor_year</th>\n",
       "      <th>real_anchor_year_sample</th>\n",
       "    </tr>\n",
       "  </thead>\n",
       "  <tbody>\n",
       "    <tr>\n",
       "      <th>0</th>\n",
       "      <td>10000048</td>\n",
       "      <td>F</td>\n",
       "      <td>23</td>\n",
       "      <td>2126</td>\n",
       "      <td>2008</td>\n",
       "    </tr>\n",
       "    <tr>\n",
       "      <th>1</th>\n",
       "      <td>10002723</td>\n",
       "      <td>F</td>\n",
       "      <td>0</td>\n",
       "      <td>2128</td>\n",
       "      <td>2017</td>\n",
       "    </tr>\n",
       "    <tr>\n",
       "      <th>2</th>\n",
       "      <td>10003939</td>\n",
       "      <td>M</td>\n",
       "      <td>0</td>\n",
       "      <td>2184</td>\n",
       "      <td>2010</td>\n",
       "    </tr>\n",
       "    <tr>\n",
       "      <th>3</th>\n",
       "      <td>10004222</td>\n",
       "      <td>M</td>\n",
       "      <td>0</td>\n",
       "      <td>2161</td>\n",
       "      <td>2015</td>\n",
       "    </tr>\n",
       "    <tr>\n",
       "      <th>4</th>\n",
       "      <td>10005325</td>\n",
       "      <td>F</td>\n",
       "      <td>0</td>\n",
       "      <td>2154</td>\n",
       "      <td>2011</td>\n",
       "    </tr>\n",
       "  </tbody>\n",
       "</table>\n",
       "</div>"
      ],
      "text/plain": [
       "   subject_id gender  anchor_age  anchor_year  real_anchor_year_sample\n",
       "0    10000048      F          23         2126                     2008\n",
       "1    10002723      F           0         2128                     2017\n",
       "2    10003939      M           0         2184                     2010\n",
       "3    10004222      M           0         2161                     2015\n",
       "4    10005325      F           0         2154                     2011"
      ]
     },
     "execution_count": 10,
     "metadata": {},
     "output_type": "execute_result"
    }
   ],
   "source": [
    "patients = patients[['subject_id', 'gender', 'anchor_age', 'anchor_year', 'real_anchor_year_sample']]\n",
    "patients.head()"
   ]
  },
  {
   "cell_type": "code",
   "execution_count": 11,
   "metadata": {
    "ExecuteTime": {
     "end_time": "2022-04-24T21:46:12.729191Z",
     "start_time": "2022-04-24T21:46:12.686521Z"
    }
   },
   "outputs": [
    {
     "name": "stdout",
     "output_type": "stream",
     "text": [
      "(382278, 5)\n"
     ]
    },
    {
     "data": {
      "text/html": [
       "<div>\n",
       "<style scoped>\n",
       "    .dataframe tbody tr th:only-of-type {\n",
       "        vertical-align: middle;\n",
       "    }\n",
       "\n",
       "    .dataframe tbody tr th {\n",
       "        vertical-align: top;\n",
       "    }\n",
       "\n",
       "    .dataframe thead th {\n",
       "        text-align: right;\n",
       "    }\n",
       "</style>\n",
       "<table border=\"1\" class=\"dataframe\">\n",
       "  <thead>\n",
       "    <tr style=\"text-align: right;\">\n",
       "      <th></th>\n",
       "      <th>subject_id</th>\n",
       "      <th>gender</th>\n",
       "      <th>anchor_age</th>\n",
       "      <th>anchor_year</th>\n",
       "      <th>real_anchor_year_sample</th>\n",
       "    </tr>\n",
       "  </thead>\n",
       "  <tbody>\n",
       "    <tr>\n",
       "      <th>0</th>\n",
       "      <td>10000048</td>\n",
       "      <td>F</td>\n",
       "      <td>23</td>\n",
       "      <td>2126</td>\n",
       "      <td>2008</td>\n",
       "    </tr>\n",
       "    <tr>\n",
       "      <th>1</th>\n",
       "      <td>10002723</td>\n",
       "      <td>F</td>\n",
       "      <td>0</td>\n",
       "      <td>2128</td>\n",
       "      <td>2017</td>\n",
       "    </tr>\n",
       "    <tr>\n",
       "      <th>2</th>\n",
       "      <td>10003939</td>\n",
       "      <td>M</td>\n",
       "      <td>0</td>\n",
       "      <td>2184</td>\n",
       "      <td>2010</td>\n",
       "    </tr>\n",
       "    <tr>\n",
       "      <th>3</th>\n",
       "      <td>10004222</td>\n",
       "      <td>M</td>\n",
       "      <td>0</td>\n",
       "      <td>2161</td>\n",
       "      <td>2015</td>\n",
       "    </tr>\n",
       "    <tr>\n",
       "      <th>4</th>\n",
       "      <td>10005325</td>\n",
       "      <td>F</td>\n",
       "      <td>0</td>\n",
       "      <td>2154</td>\n",
       "      <td>2011</td>\n",
       "    </tr>\n",
       "  </tbody>\n",
       "</table>\n",
       "</div>"
      ],
      "text/plain": [
       "   subject_id gender  anchor_age  anchor_year  real_anchor_year_sample\n",
       "0    10000048      F          23         2126                     2008\n",
       "1    10002723      F           0         2128                     2017\n",
       "2    10003939      M           0         2184                     2010\n",
       "3    10004222      M           0         2161                     2015\n",
       "4    10005325      F           0         2154                     2011"
      ]
     },
     "execution_count": 11,
     "metadata": {},
     "output_type": "execute_result"
    }
   ],
   "source": [
    "patients = patients.dropna().reset_index(drop=True)\n",
    "print(patients.shape)\n",
    "patients.head()"
   ]
  },
  {
   "cell_type": "markdown",
   "metadata": {},
   "source": [
    "## admissions"
   ]
  },
  {
   "cell_type": "code",
   "execution_count": 14,
   "metadata": {
    "ExecuteTime": {
     "end_time": "2022-04-24T21:46:14.170211Z",
     "start_time": "2022-04-24T21:46:12.730479Z"
    }
   },
   "outputs": [
    {
     "name": "stdout",
     "output_type": "stream",
     "text": [
      "(523740, 15)\n"
     ]
    },
    {
     "data": {
      "text/html": [
       "<div>\n",
       "<style scoped>\n",
       "    .dataframe tbody tr th:only-of-type {\n",
       "        vertical-align: middle;\n",
       "    }\n",
       "\n",
       "    .dataframe tbody tr th {\n",
       "        vertical-align: top;\n",
       "    }\n",
       "\n",
       "    .dataframe thead th {\n",
       "        text-align: right;\n",
       "    }\n",
       "</style>\n",
       "<table border=\"1\" class=\"dataframe\">\n",
       "  <thead>\n",
       "    <tr style=\"text-align: right;\">\n",
       "      <th></th>\n",
       "      <th>subject_id</th>\n",
       "      <th>hadm_id</th>\n",
       "      <th>admittime</th>\n",
       "      <th>dischtime</th>\n",
       "      <th>deathtime</th>\n",
       "      <th>admission_type</th>\n",
       "      <th>admission_location</th>\n",
       "      <th>discharge_location</th>\n",
       "      <th>insurance</th>\n",
       "      <th>language</th>\n",
       "      <th>marital_status</th>\n",
       "      <th>ethnicity</th>\n",
       "      <th>edregtime</th>\n",
       "      <th>edouttime</th>\n",
       "      <th>hospital_expire_flag</th>\n",
       "    </tr>\n",
       "  </thead>\n",
       "  <tbody>\n",
       "    <tr>\n",
       "      <th>0</th>\n",
       "      <td>14679932</td>\n",
       "      <td>21038362</td>\n",
       "      <td>2139-09-26 14:16:00</td>\n",
       "      <td>2139-09-28 11:30:00</td>\n",
       "      <td>NaN</td>\n",
       "      <td>ELECTIVE</td>\n",
       "      <td>NaN</td>\n",
       "      <td>HOME</td>\n",
       "      <td>Other</td>\n",
       "      <td>ENGLISH</td>\n",
       "      <td>SINGLE</td>\n",
       "      <td>UNKNOWN</td>\n",
       "      <td>NaN</td>\n",
       "      <td>NaN</td>\n",
       "      <td>0</td>\n",
       "    </tr>\n",
       "    <tr>\n",
       "      <th>1</th>\n",
       "      <td>15585972</td>\n",
       "      <td>24941086</td>\n",
       "      <td>2123-10-07 23:56:00</td>\n",
       "      <td>2123-10-12 11:22:00</td>\n",
       "      <td>NaN</td>\n",
       "      <td>ELECTIVE</td>\n",
       "      <td>NaN</td>\n",
       "      <td>HOME</td>\n",
       "      <td>Other</td>\n",
       "      <td>ENGLISH</td>\n",
       "      <td>NaN</td>\n",
       "      <td>WHITE</td>\n",
       "      <td>NaN</td>\n",
       "      <td>NaN</td>\n",
       "      <td>0</td>\n",
       "    </tr>\n",
       "    <tr>\n",
       "      <th>2</th>\n",
       "      <td>11989120</td>\n",
       "      <td>21965160</td>\n",
       "      <td>2147-01-14 09:00:00</td>\n",
       "      <td>2147-01-17 14:25:00</td>\n",
       "      <td>NaN</td>\n",
       "      <td>ELECTIVE</td>\n",
       "      <td>NaN</td>\n",
       "      <td>HOME</td>\n",
       "      <td>Other</td>\n",
       "      <td>ENGLISH</td>\n",
       "      <td>NaN</td>\n",
       "      <td>UNKNOWN</td>\n",
       "      <td>NaN</td>\n",
       "      <td>NaN</td>\n",
       "      <td>0</td>\n",
       "    </tr>\n",
       "    <tr>\n",
       "      <th>3</th>\n",
       "      <td>17817079</td>\n",
       "      <td>24709883</td>\n",
       "      <td>2165-12-27 17:33:00</td>\n",
       "      <td>2165-12-31 21:18:00</td>\n",
       "      <td>NaN</td>\n",
       "      <td>ELECTIVE</td>\n",
       "      <td>NaN</td>\n",
       "      <td>HOME</td>\n",
       "      <td>Other</td>\n",
       "      <td>ENGLISH</td>\n",
       "      <td>NaN</td>\n",
       "      <td>OTHER</td>\n",
       "      <td>NaN</td>\n",
       "      <td>NaN</td>\n",
       "      <td>0</td>\n",
       "    </tr>\n",
       "    <tr>\n",
       "      <th>4</th>\n",
       "      <td>15078341</td>\n",
       "      <td>23272159</td>\n",
       "      <td>2122-08-28 08:48:00</td>\n",
       "      <td>2122-08-30 12:32:00</td>\n",
       "      <td>NaN</td>\n",
       "      <td>ELECTIVE</td>\n",
       "      <td>NaN</td>\n",
       "      <td>HOME</td>\n",
       "      <td>Other</td>\n",
       "      <td>ENGLISH</td>\n",
       "      <td>NaN</td>\n",
       "      <td>BLACK/AFRICAN AMERICAN</td>\n",
       "      <td>NaN</td>\n",
       "      <td>NaN</td>\n",
       "      <td>0</td>\n",
       "    </tr>\n",
       "  </tbody>\n",
       "</table>\n",
       "</div>"
      ],
      "text/plain": [
       "   subject_id   hadm_id            admittime            dischtime deathtime  \\\n",
       "0    14679932  21038362  2139-09-26 14:16:00  2139-09-28 11:30:00       NaN   \n",
       "1    15585972  24941086  2123-10-07 23:56:00  2123-10-12 11:22:00       NaN   \n",
       "2    11989120  21965160  2147-01-14 09:00:00  2147-01-17 14:25:00       NaN   \n",
       "3    17817079  24709883  2165-12-27 17:33:00  2165-12-31 21:18:00       NaN   \n",
       "4    15078341  23272159  2122-08-28 08:48:00  2122-08-30 12:32:00       NaN   \n",
       "\n",
       "  admission_type admission_location discharge_location insurance language  \\\n",
       "0       ELECTIVE                NaN               HOME     Other  ENGLISH   \n",
       "1       ELECTIVE                NaN               HOME     Other  ENGLISH   \n",
       "2       ELECTIVE                NaN               HOME     Other  ENGLISH   \n",
       "3       ELECTIVE                NaN               HOME     Other  ENGLISH   \n",
       "4       ELECTIVE                NaN               HOME     Other  ENGLISH   \n",
       "\n",
       "  marital_status               ethnicity edregtime edouttime  \\\n",
       "0         SINGLE                 UNKNOWN       NaN       NaN   \n",
       "1            NaN                   WHITE       NaN       NaN   \n",
       "2            NaN                 UNKNOWN       NaN       NaN   \n",
       "3            NaN                   OTHER       NaN       NaN   \n",
       "4            NaN  BLACK/AFRICAN AMERICAN       NaN       NaN   \n",
       "\n",
       "   hospital_expire_flag  \n",
       "0                     0  \n",
       "1                     0  \n",
       "2                     0  \n",
       "3                     0  \n",
       "4                     0  "
      ]
     },
     "execution_count": 14,
     "metadata": {},
     "output_type": "execute_result"
    }
   ],
   "source": [
    "admissions = pd.read_csv(os.path.join(data_path, 'raw/mimic4/admissions.csv'))\n",
    "print(admissions.shape)\n",
    "admissions.head()"
   ]
  },
  {
   "cell_type": "code",
   "execution_count": 15,
   "metadata": {
    "ExecuteTime": {
     "end_time": "2022-04-24T21:46:14.195931Z",
     "start_time": "2022-04-24T21:46:14.171955Z"
    }
   },
   "outputs": [
    {
     "data": {
      "text/plain": [
       "523740"
      ]
     },
     "execution_count": 15,
     "metadata": {},
     "output_type": "execute_result"
    }
   ],
   "source": [
    "admissions.hadm_id.nunique()"
   ]
  },
  {
   "cell_type": "code",
   "execution_count": 16,
   "metadata": {
    "ExecuteTime": {
     "end_time": "2022-04-24T21:46:14.433783Z",
     "start_time": "2022-04-24T21:46:14.197278Z"
    }
   },
   "outputs": [
    {
     "data": {
      "text/html": [
       "<div>\n",
       "<style scoped>\n",
       "    .dataframe tbody tr th:only-of-type {\n",
       "        vertical-align: middle;\n",
       "    }\n",
       "\n",
       "    .dataframe tbody tr th {\n",
       "        vertical-align: top;\n",
       "    }\n",
       "\n",
       "    .dataframe thead th {\n",
       "        text-align: right;\n",
       "    }\n",
       "</style>\n",
       "<table border=\"1\" class=\"dataframe\">\n",
       "  <thead>\n",
       "    <tr style=\"text-align: right;\">\n",
       "      <th></th>\n",
       "      <th>subject_id</th>\n",
       "      <th>hadm_id</th>\n",
       "      <th>admittime</th>\n",
       "      <th>dischtime</th>\n",
       "      <th>deathtime</th>\n",
       "      <th>admission_type</th>\n",
       "      <th>admission_location</th>\n",
       "      <th>discharge_location</th>\n",
       "      <th>insurance</th>\n",
       "      <th>language</th>\n",
       "      <th>marital_status</th>\n",
       "      <th>ethnicity</th>\n",
       "      <th>edregtime</th>\n",
       "      <th>edouttime</th>\n",
       "      <th>hospital_expire_flag</th>\n",
       "    </tr>\n",
       "  </thead>\n",
       "  <tbody>\n",
       "    <tr>\n",
       "      <th>0</th>\n",
       "      <td>14679932</td>\n",
       "      <td>21038362</td>\n",
       "      <td>2139-09-26</td>\n",
       "      <td>2139-09-28 11:30:00</td>\n",
       "      <td>NaN</td>\n",
       "      <td>ELECTIVE</td>\n",
       "      <td>NaN</td>\n",
       "      <td>HOME</td>\n",
       "      <td>Other</td>\n",
       "      <td>ENGLISH</td>\n",
       "      <td>SINGLE</td>\n",
       "      <td>UNKNOWN</td>\n",
       "      <td>NaN</td>\n",
       "      <td>NaN</td>\n",
       "      <td>0</td>\n",
       "    </tr>\n",
       "    <tr>\n",
       "      <th>1</th>\n",
       "      <td>15585972</td>\n",
       "      <td>24941086</td>\n",
       "      <td>2123-10-07</td>\n",
       "      <td>2123-10-12 11:22:00</td>\n",
       "      <td>NaN</td>\n",
       "      <td>ELECTIVE</td>\n",
       "      <td>NaN</td>\n",
       "      <td>HOME</td>\n",
       "      <td>Other</td>\n",
       "      <td>ENGLISH</td>\n",
       "      <td>NaN</td>\n",
       "      <td>WHITE</td>\n",
       "      <td>NaN</td>\n",
       "      <td>NaN</td>\n",
       "      <td>0</td>\n",
       "    </tr>\n",
       "    <tr>\n",
       "      <th>2</th>\n",
       "      <td>11989120</td>\n",
       "      <td>21965160</td>\n",
       "      <td>2147-01-14</td>\n",
       "      <td>2147-01-17 14:25:00</td>\n",
       "      <td>NaN</td>\n",
       "      <td>ELECTIVE</td>\n",
       "      <td>NaN</td>\n",
       "      <td>HOME</td>\n",
       "      <td>Other</td>\n",
       "      <td>ENGLISH</td>\n",
       "      <td>NaN</td>\n",
       "      <td>UNKNOWN</td>\n",
       "      <td>NaN</td>\n",
       "      <td>NaN</td>\n",
       "      <td>0</td>\n",
       "    </tr>\n",
       "    <tr>\n",
       "      <th>3</th>\n",
       "      <td>17817079</td>\n",
       "      <td>24709883</td>\n",
       "      <td>2165-12-27</td>\n",
       "      <td>2165-12-31 21:18:00</td>\n",
       "      <td>NaN</td>\n",
       "      <td>ELECTIVE</td>\n",
       "      <td>NaN</td>\n",
       "      <td>HOME</td>\n",
       "      <td>Other</td>\n",
       "      <td>ENGLISH</td>\n",
       "      <td>NaN</td>\n",
       "      <td>OTHER</td>\n",
       "      <td>NaN</td>\n",
       "      <td>NaN</td>\n",
       "      <td>0</td>\n",
       "    </tr>\n",
       "    <tr>\n",
       "      <th>4</th>\n",
       "      <td>15078341</td>\n",
       "      <td>23272159</td>\n",
       "      <td>2122-08-28</td>\n",
       "      <td>2122-08-30 12:32:00</td>\n",
       "      <td>NaN</td>\n",
       "      <td>ELECTIVE</td>\n",
       "      <td>NaN</td>\n",
       "      <td>HOME</td>\n",
       "      <td>Other</td>\n",
       "      <td>ENGLISH</td>\n",
       "      <td>NaN</td>\n",
       "      <td>BLACK/AFRICAN AMERICAN</td>\n",
       "      <td>NaN</td>\n",
       "      <td>NaN</td>\n",
       "      <td>0</td>\n",
       "    </tr>\n",
       "  </tbody>\n",
       "</table>\n",
       "</div>"
      ],
      "text/plain": [
       "   subject_id   hadm_id   admittime            dischtime deathtime  \\\n",
       "0    14679932  21038362  2139-09-26  2139-09-28 11:30:00       NaN   \n",
       "1    15585972  24941086  2123-10-07  2123-10-12 11:22:00       NaN   \n",
       "2    11989120  21965160  2147-01-14  2147-01-17 14:25:00       NaN   \n",
       "3    17817079  24709883  2165-12-27  2165-12-31 21:18:00       NaN   \n",
       "4    15078341  23272159  2122-08-28  2122-08-30 12:32:00       NaN   \n",
       "\n",
       "  admission_type admission_location discharge_location insurance language  \\\n",
       "0       ELECTIVE                NaN               HOME     Other  ENGLISH   \n",
       "1       ELECTIVE                NaN               HOME     Other  ENGLISH   \n",
       "2       ELECTIVE                NaN               HOME     Other  ENGLISH   \n",
       "3       ELECTIVE                NaN               HOME     Other  ENGLISH   \n",
       "4       ELECTIVE                NaN               HOME     Other  ENGLISH   \n",
       "\n",
       "  marital_status               ethnicity edregtime edouttime  \\\n",
       "0         SINGLE                 UNKNOWN       NaN       NaN   \n",
       "1            NaN                   WHITE       NaN       NaN   \n",
       "2            NaN                 UNKNOWN       NaN       NaN   \n",
       "3            NaN                   OTHER       NaN       NaN   \n",
       "4            NaN  BLACK/AFRICAN AMERICAN       NaN       NaN   \n",
       "\n",
       "   hospital_expire_flag  \n",
       "0                     0  \n",
       "1                     0  \n",
       "2                     0  \n",
       "3                     0  \n",
       "4                     0  "
      ]
     },
     "execution_count": 16,
     "metadata": {},
     "output_type": "execute_result"
    }
   ],
   "source": [
    "admissions['admittime'] = pd.to_datetime(admissions['admittime']).dt.date\n",
    "admissions.head()"
   ]
  },
  {
   "cell_type": "code",
   "execution_count": 17,
   "metadata": {
    "ExecuteTime": {
     "end_time": "2022-04-24T21:46:14.450379Z",
     "start_time": "2022-04-24T21:46:14.435539Z"
    }
   },
   "outputs": [
    {
     "name": "stdout",
     "output_type": "stream",
     "text": [
      "(523740, 5)\n"
     ]
    }
   ],
   "source": [
    "admissions = admissions[['subject_id', 'hadm_id', 'ethnicity', 'admittime', 'hospital_expire_flag']]\n",
    "print(admissions.shape)"
   ]
  },
  {
   "cell_type": "code",
   "execution_count": 18,
   "metadata": {
    "ExecuteTime": {
     "end_time": "2022-04-24T21:46:14.529475Z",
     "start_time": "2022-04-24T21:46:14.452012Z"
    }
   },
   "outputs": [
    {
     "name": "stdout",
     "output_type": "stream",
     "text": [
      "(523740, 5)\n"
     ]
    },
    {
     "data": {
      "text/html": [
       "<div>\n",
       "<style scoped>\n",
       "    .dataframe tbody tr th:only-of-type {\n",
       "        vertical-align: middle;\n",
       "    }\n",
       "\n",
       "    .dataframe tbody tr th {\n",
       "        vertical-align: top;\n",
       "    }\n",
       "\n",
       "    .dataframe thead th {\n",
       "        text-align: right;\n",
       "    }\n",
       "</style>\n",
       "<table border=\"1\" class=\"dataframe\">\n",
       "  <thead>\n",
       "    <tr style=\"text-align: right;\">\n",
       "      <th></th>\n",
       "      <th>subject_id</th>\n",
       "      <th>hadm_id</th>\n",
       "      <th>ethnicity</th>\n",
       "      <th>admittime</th>\n",
       "      <th>hospital_expire_flag</th>\n",
       "    </tr>\n",
       "  </thead>\n",
       "  <tbody>\n",
       "    <tr>\n",
       "      <th>0</th>\n",
       "      <td>14679932</td>\n",
       "      <td>21038362</td>\n",
       "      <td>UNKNOWN</td>\n",
       "      <td>2139-09-26</td>\n",
       "      <td>0</td>\n",
       "    </tr>\n",
       "    <tr>\n",
       "      <th>1</th>\n",
       "      <td>15585972</td>\n",
       "      <td>24941086</td>\n",
       "      <td>WHITE</td>\n",
       "      <td>2123-10-07</td>\n",
       "      <td>0</td>\n",
       "    </tr>\n",
       "    <tr>\n",
       "      <th>2</th>\n",
       "      <td>11989120</td>\n",
       "      <td>21965160</td>\n",
       "      <td>UNKNOWN</td>\n",
       "      <td>2147-01-14</td>\n",
       "      <td>0</td>\n",
       "    </tr>\n",
       "    <tr>\n",
       "      <th>3</th>\n",
       "      <td>17817079</td>\n",
       "      <td>24709883</td>\n",
       "      <td>OTHER</td>\n",
       "      <td>2165-12-27</td>\n",
       "      <td>0</td>\n",
       "    </tr>\n",
       "    <tr>\n",
       "      <th>4</th>\n",
       "      <td>15078341</td>\n",
       "      <td>23272159</td>\n",
       "      <td>BLACK/AFRICAN AMERICAN</td>\n",
       "      <td>2122-08-28</td>\n",
       "      <td>0</td>\n",
       "    </tr>\n",
       "  </tbody>\n",
       "</table>\n",
       "</div>"
      ],
      "text/plain": [
       "   subject_id   hadm_id               ethnicity   admittime  \\\n",
       "0    14679932  21038362                 UNKNOWN  2139-09-26   \n",
       "1    15585972  24941086                   WHITE  2123-10-07   \n",
       "2    11989120  21965160                 UNKNOWN  2147-01-14   \n",
       "3    17817079  24709883                   OTHER  2165-12-27   \n",
       "4    15078341  23272159  BLACK/AFRICAN AMERICAN  2122-08-28   \n",
       "\n",
       "   hospital_expire_flag  \n",
       "0                     0  \n",
       "1                     0  \n",
       "2                     0  \n",
       "3                     0  \n",
       "4                     0  "
      ]
     },
     "execution_count": 18,
     "metadata": {},
     "output_type": "execute_result"
    }
   ],
   "source": [
    "admissions = admissions.dropna()\n",
    "print(admissions.shape)\n",
    "admissions.head()"
   ]
  },
  {
   "cell_type": "markdown",
   "metadata": {},
   "source": [
    "mortality label"
   ]
  },
  {
   "cell_type": "code",
   "execution_count": 19,
   "metadata": {
    "ExecuteTime": {
     "end_time": "2022-04-24T21:46:14.540354Z",
     "start_time": "2022-04-24T21:46:14.530964Z"
    }
   },
   "outputs": [
    {
     "data": {
      "text/html": [
       "<div>\n",
       "<style scoped>\n",
       "    .dataframe tbody tr th:only-of-type {\n",
       "        vertical-align: middle;\n",
       "    }\n",
       "\n",
       "    .dataframe tbody tr th {\n",
       "        vertical-align: top;\n",
       "    }\n",
       "\n",
       "    .dataframe thead th {\n",
       "        text-align: right;\n",
       "    }\n",
       "</style>\n",
       "<table border=\"1\" class=\"dataframe\">\n",
       "  <thead>\n",
       "    <tr style=\"text-align: right;\">\n",
       "      <th></th>\n",
       "      <th>subject_id</th>\n",
       "      <th>hadm_id</th>\n",
       "      <th>ethnicity</th>\n",
       "      <th>admittime</th>\n",
       "      <th>hospital_expire_flag</th>\n",
       "      <th>mortality</th>\n",
       "    </tr>\n",
       "  </thead>\n",
       "  <tbody>\n",
       "    <tr>\n",
       "      <th>0</th>\n",
       "      <td>14679932</td>\n",
       "      <td>21038362</td>\n",
       "      <td>UNKNOWN</td>\n",
       "      <td>2139-09-26</td>\n",
       "      <td>0</td>\n",
       "      <td>0</td>\n",
       "    </tr>\n",
       "    <tr>\n",
       "      <th>1</th>\n",
       "      <td>15585972</td>\n",
       "      <td>24941086</td>\n",
       "      <td>WHITE</td>\n",
       "      <td>2123-10-07</td>\n",
       "      <td>0</td>\n",
       "      <td>0</td>\n",
       "    </tr>\n",
       "    <tr>\n",
       "      <th>2</th>\n",
       "      <td>11989120</td>\n",
       "      <td>21965160</td>\n",
       "      <td>UNKNOWN</td>\n",
       "      <td>2147-01-14</td>\n",
       "      <td>0</td>\n",
       "      <td>0</td>\n",
       "    </tr>\n",
       "    <tr>\n",
       "      <th>3</th>\n",
       "      <td>17817079</td>\n",
       "      <td>24709883</td>\n",
       "      <td>OTHER</td>\n",
       "      <td>2165-12-27</td>\n",
       "      <td>0</td>\n",
       "      <td>0</td>\n",
       "    </tr>\n",
       "    <tr>\n",
       "      <th>4</th>\n",
       "      <td>15078341</td>\n",
       "      <td>23272159</td>\n",
       "      <td>BLACK/AFRICAN AMERICAN</td>\n",
       "      <td>2122-08-28</td>\n",
       "      <td>0</td>\n",
       "      <td>0</td>\n",
       "    </tr>\n",
       "  </tbody>\n",
       "</table>\n",
       "</div>"
      ],
      "text/plain": [
       "   subject_id   hadm_id               ethnicity   admittime  \\\n",
       "0    14679932  21038362                 UNKNOWN  2139-09-26   \n",
       "1    15585972  24941086                   WHITE  2123-10-07   \n",
       "2    11989120  21965160                 UNKNOWN  2147-01-14   \n",
       "3    17817079  24709883                   OTHER  2165-12-27   \n",
       "4    15078341  23272159  BLACK/AFRICAN AMERICAN  2122-08-28   \n",
       "\n",
       "   hospital_expire_flag  mortality  \n",
       "0                     0          0  \n",
       "1                     0          0  \n",
       "2                     0          0  \n",
       "3                     0          0  \n",
       "4                     0          0  "
      ]
     },
     "execution_count": 19,
     "metadata": {},
     "output_type": "execute_result"
    }
   ],
   "source": [
    "admissions['mortality'] = admissions.hospital_expire_flag\n",
    "admissions.head()"
   ]
  },
  {
   "cell_type": "markdown",
   "metadata": {},
   "source": [
    "readmission label"
   ]
  },
  {
   "cell_type": "code",
   "execution_count": 20,
   "metadata": {
    "ExecuteTime": {
     "end_time": "2022-04-24T21:46:15.190200Z",
     "start_time": "2022-04-24T21:46:14.542143Z"
    }
   },
   "outputs": [
    {
     "data": {
      "text/html": [
       "<div>\n",
       "<style scoped>\n",
       "    .dataframe tbody tr th:only-of-type {\n",
       "        vertical-align: middle;\n",
       "    }\n",
       "\n",
       "    .dataframe tbody tr th {\n",
       "        vertical-align: top;\n",
       "    }\n",
       "\n",
       "    .dataframe thead th {\n",
       "        text-align: right;\n",
       "    }\n",
       "</style>\n",
       "<table border=\"1\" class=\"dataframe\">\n",
       "  <thead>\n",
       "    <tr style=\"text-align: right;\">\n",
       "      <th></th>\n",
       "      <th>subject_id</th>\n",
       "      <th>hadm_id</th>\n",
       "      <th>ethnicity</th>\n",
       "      <th>admittime</th>\n",
       "      <th>hospital_expire_flag</th>\n",
       "      <th>mortality</th>\n",
       "      <th>next_row_subject_id</th>\n",
       "      <th>next_row_admittime</th>\n",
       "    </tr>\n",
       "  </thead>\n",
       "  <tbody>\n",
       "    <tr>\n",
       "      <th>266356</th>\n",
       "      <td>10000019</td>\n",
       "      <td>25058216</td>\n",
       "      <td>WHITE</td>\n",
       "      <td>2129-05-21</td>\n",
       "      <td>0</td>\n",
       "      <td>0</td>\n",
       "      <td>10000032.0</td>\n",
       "      <td>2180-05-06</td>\n",
       "    </tr>\n",
       "    <tr>\n",
       "      <th>434288</th>\n",
       "      <td>10000032</td>\n",
       "      <td>22595853</td>\n",
       "      <td>WHITE</td>\n",
       "      <td>2180-05-06</td>\n",
       "      <td>0</td>\n",
       "      <td>0</td>\n",
       "      <td>10000032.0</td>\n",
       "      <td>2180-06-26</td>\n",
       "    </tr>\n",
       "    <tr>\n",
       "      <th>446284</th>\n",
       "      <td>10000032</td>\n",
       "      <td>22841357</td>\n",
       "      <td>WHITE</td>\n",
       "      <td>2180-06-26</td>\n",
       "      <td>0</td>\n",
       "      <td>0</td>\n",
       "      <td>10000032.0</td>\n",
       "      <td>2180-08-05</td>\n",
       "    </tr>\n",
       "    <tr>\n",
       "      <th>453525</th>\n",
       "      <td>10000032</td>\n",
       "      <td>25742920</td>\n",
       "      <td>WHITE</td>\n",
       "      <td>2180-08-05</td>\n",
       "      <td>0</td>\n",
       "      <td>0</td>\n",
       "      <td>10000032.0</td>\n",
       "      <td>2180-07-23</td>\n",
       "    </tr>\n",
       "    <tr>\n",
       "      <th>427806</th>\n",
       "      <td>10000032</td>\n",
       "      <td>29079034</td>\n",
       "      <td>WHITE</td>\n",
       "      <td>2180-07-23</td>\n",
       "      <td>0</td>\n",
       "      <td>0</td>\n",
       "      <td>10000044.0</td>\n",
       "      <td>2150-09-30</td>\n",
       "    </tr>\n",
       "  </tbody>\n",
       "</table>\n",
       "</div>"
      ],
      "text/plain": [
       "        subject_id   hadm_id ethnicity   admittime  hospital_expire_flag  \\\n",
       "266356    10000019  25058216     WHITE  2129-05-21                     0   \n",
       "434288    10000032  22595853     WHITE  2180-05-06                     0   \n",
       "446284    10000032  22841357     WHITE  2180-06-26                     0   \n",
       "453525    10000032  25742920     WHITE  2180-08-05                     0   \n",
       "427806    10000032  29079034     WHITE  2180-07-23                     0   \n",
       "\n",
       "        mortality  next_row_subject_id next_row_admittime  \n",
       "266356          0           10000032.0         2180-05-06  \n",
       "434288          0           10000032.0         2180-06-26  \n",
       "446284          0           10000032.0         2180-08-05  \n",
       "453525          0           10000032.0         2180-07-23  \n",
       "427806          0           10000044.0         2150-09-30  "
      ]
     },
     "execution_count": 20,
     "metadata": {},
     "output_type": "execute_result"
    }
   ],
   "source": [
    "admissions = admissions.sort_values(by=['subject_id', 'hadm_id', 'admittime'])\n",
    "admissions['next_row_subject_id'] = admissions.subject_id.shift(-1)\n",
    "admissions['next_row_admittime'] = admissions.admittime.shift(-1)\n",
    "admissions.head()"
   ]
  },
  {
   "cell_type": "code",
   "execution_count": 21,
   "metadata": {
    "ExecuteTime": {
     "end_time": "2022-04-24T21:46:27.603304Z",
     "start_time": "2022-04-24T21:46:15.192205Z"
    }
   },
   "outputs": [
    {
     "data": {
      "text/html": [
       "<div>\n",
       "<style scoped>\n",
       "    .dataframe tbody tr th:only-of-type {\n",
       "        vertical-align: middle;\n",
       "    }\n",
       "\n",
       "    .dataframe tbody tr th {\n",
       "        vertical-align: top;\n",
       "    }\n",
       "\n",
       "    .dataframe thead th {\n",
       "        text-align: right;\n",
       "    }\n",
       "</style>\n",
       "<table border=\"1\" class=\"dataframe\">\n",
       "  <thead>\n",
       "    <tr style=\"text-align: right;\">\n",
       "      <th></th>\n",
       "      <th>subject_id</th>\n",
       "      <th>hadm_id</th>\n",
       "      <th>ethnicity</th>\n",
       "      <th>admittime</th>\n",
       "      <th>hospital_expire_flag</th>\n",
       "      <th>mortality</th>\n",
       "      <th>next_row_subject_id</th>\n",
       "      <th>next_row_admittime</th>\n",
       "      <th>readmission</th>\n",
       "    </tr>\n",
       "  </thead>\n",
       "  <tbody>\n",
       "    <tr>\n",
       "      <th>266356</th>\n",
       "      <td>10000019</td>\n",
       "      <td>25058216</td>\n",
       "      <td>WHITE</td>\n",
       "      <td>2129-05-21</td>\n",
       "      <td>0</td>\n",
       "      <td>0</td>\n",
       "      <td>10000032.0</td>\n",
       "      <td>2180-05-06</td>\n",
       "      <td>0</td>\n",
       "    </tr>\n",
       "    <tr>\n",
       "      <th>434288</th>\n",
       "      <td>10000032</td>\n",
       "      <td>22595853</td>\n",
       "      <td>WHITE</td>\n",
       "      <td>2180-05-06</td>\n",
       "      <td>0</td>\n",
       "      <td>0</td>\n",
       "      <td>10000032.0</td>\n",
       "      <td>2180-06-26</td>\n",
       "      <td>0</td>\n",
       "    </tr>\n",
       "    <tr>\n",
       "      <th>446284</th>\n",
       "      <td>10000032</td>\n",
       "      <td>22841357</td>\n",
       "      <td>WHITE</td>\n",
       "      <td>2180-06-26</td>\n",
       "      <td>0</td>\n",
       "      <td>0</td>\n",
       "      <td>10000032.0</td>\n",
       "      <td>2180-08-05</td>\n",
       "      <td>0</td>\n",
       "    </tr>\n",
       "    <tr>\n",
       "      <th>453525</th>\n",
       "      <td>10000032</td>\n",
       "      <td>25742920</td>\n",
       "      <td>WHITE</td>\n",
       "      <td>2180-08-05</td>\n",
       "      <td>0</td>\n",
       "      <td>0</td>\n",
       "      <td>10000032.0</td>\n",
       "      <td>2180-07-23</td>\n",
       "      <td>1</td>\n",
       "    </tr>\n",
       "    <tr>\n",
       "      <th>427806</th>\n",
       "      <td>10000032</td>\n",
       "      <td>29079034</td>\n",
       "      <td>WHITE</td>\n",
       "      <td>2180-07-23</td>\n",
       "      <td>0</td>\n",
       "      <td>0</td>\n",
       "      <td>10000044.0</td>\n",
       "      <td>2150-09-30</td>\n",
       "      <td>0</td>\n",
       "    </tr>\n",
       "  </tbody>\n",
       "</table>\n",
       "</div>"
      ],
      "text/plain": [
       "        subject_id   hadm_id ethnicity   admittime  hospital_expire_flag  \\\n",
       "266356    10000019  25058216     WHITE  2129-05-21                     0   \n",
       "434288    10000032  22595853     WHITE  2180-05-06                     0   \n",
       "446284    10000032  22841357     WHITE  2180-06-26                     0   \n",
       "453525    10000032  25742920     WHITE  2180-08-05                     0   \n",
       "427806    10000032  29079034     WHITE  2180-07-23                     0   \n",
       "\n",
       "        mortality  next_row_subject_id next_row_admittime  readmission  \n",
       "266356          0           10000032.0         2180-05-06            0  \n",
       "434288          0           10000032.0         2180-06-26            0  \n",
       "446284          0           10000032.0         2180-08-05            0  \n",
       "453525          0           10000032.0         2180-07-23            1  \n",
       "427806          0           10000044.0         2150-09-30            0  "
      ]
     },
     "execution_count": 21,
     "metadata": {},
     "output_type": "execute_result"
    }
   ],
   "source": [
    "def assign_readmission_label(row):\n",
    "    curr_subject_id = row.subject_id\n",
    "    curr_admittime = row.admittime\n",
    "    \n",
    "    next_row_subject_id = row.next_row_subject_id\n",
    "    next_row_admittime = row.next_row_admittime\n",
    "    \n",
    "    if curr_subject_id != next_row_subject_id:\n",
    "        label = 0\n",
    "    elif (next_row_admittime - curr_admittime).days > 15:\n",
    "        label = 0\n",
    "    else:\n",
    "        label = 1\n",
    "    \n",
    "    return label\n",
    "    \n",
    "admissions['readmission'] = admissions.apply(lambda x: assign_readmission_label(x), axis=1)\n",
    "admissions.head()"
   ]
  },
  {
   "cell_type": "code",
   "execution_count": 22,
   "metadata": {
    "ExecuteTime": {
     "end_time": "2022-04-24T21:46:27.782269Z",
     "start_time": "2022-04-24T21:46:27.605132Z"
    }
   },
   "outputs": [
    {
     "name": "stdout",
     "output_type": "stream",
     "text": [
      "(523740, 6)\n"
     ]
    },
    {
     "data": {
      "text/html": [
       "<div>\n",
       "<style scoped>\n",
       "    .dataframe tbody tr th:only-of-type {\n",
       "        vertical-align: middle;\n",
       "    }\n",
       "\n",
       "    .dataframe tbody tr th {\n",
       "        vertical-align: top;\n",
       "    }\n",
       "\n",
       "    .dataframe thead th {\n",
       "        text-align: right;\n",
       "    }\n",
       "</style>\n",
       "<table border=\"1\" class=\"dataframe\">\n",
       "  <thead>\n",
       "    <tr style=\"text-align: right;\">\n",
       "      <th></th>\n",
       "      <th>subject_id</th>\n",
       "      <th>hadm_id</th>\n",
       "      <th>ethnicity</th>\n",
       "      <th>admittime</th>\n",
       "      <th>mortality</th>\n",
       "      <th>readmission</th>\n",
       "    </tr>\n",
       "  </thead>\n",
       "  <tbody>\n",
       "    <tr>\n",
       "      <th>0</th>\n",
       "      <td>10000019</td>\n",
       "      <td>25058216</td>\n",
       "      <td>WHITE</td>\n",
       "      <td>2129-05-21</td>\n",
       "      <td>0</td>\n",
       "      <td>0</td>\n",
       "    </tr>\n",
       "    <tr>\n",
       "      <th>1</th>\n",
       "      <td>10000032</td>\n",
       "      <td>22595853</td>\n",
       "      <td>WHITE</td>\n",
       "      <td>2180-05-06</td>\n",
       "      <td>0</td>\n",
       "      <td>0</td>\n",
       "    </tr>\n",
       "    <tr>\n",
       "      <th>2</th>\n",
       "      <td>10000032</td>\n",
       "      <td>22841357</td>\n",
       "      <td>WHITE</td>\n",
       "      <td>2180-06-26</td>\n",
       "      <td>0</td>\n",
       "      <td>0</td>\n",
       "    </tr>\n",
       "    <tr>\n",
       "      <th>3</th>\n",
       "      <td>10000032</td>\n",
       "      <td>25742920</td>\n",
       "      <td>WHITE</td>\n",
       "      <td>2180-08-05</td>\n",
       "      <td>0</td>\n",
       "      <td>1</td>\n",
       "    </tr>\n",
       "    <tr>\n",
       "      <th>4</th>\n",
       "      <td>10000032</td>\n",
       "      <td>29079034</td>\n",
       "      <td>WHITE</td>\n",
       "      <td>2180-07-23</td>\n",
       "      <td>0</td>\n",
       "      <td>0</td>\n",
       "    </tr>\n",
       "  </tbody>\n",
       "</table>\n",
       "</div>"
      ],
      "text/plain": [
       "   subject_id   hadm_id ethnicity   admittime  mortality  readmission\n",
       "0    10000019  25058216     WHITE  2129-05-21          0            0\n",
       "1    10000032  22595853     WHITE  2180-05-06          0            0\n",
       "2    10000032  22841357     WHITE  2180-06-26          0            0\n",
       "3    10000032  25742920     WHITE  2180-08-05          0            1\n",
       "4    10000032  29079034     WHITE  2180-07-23          0            0"
      ]
     },
     "execution_count": 22,
     "metadata": {},
     "output_type": "execute_result"
    }
   ],
   "source": [
    "admissions = admissions[['subject_id', 'hadm_id', 'ethnicity', 'admittime', 'mortality', 'readmission']]\n",
    "admissions = admissions.dropna().reset_index(drop=True)\n",
    "print(admissions.shape)\n",
    "admissions.head()"
   ]
  },
  {
   "cell_type": "markdown",
   "metadata": {},
   "source": [
    "## diagnoses_icd"
   ]
  },
  {
   "cell_type": "code",
   "execution_count": 24,
   "metadata": {
    "ExecuteTime": {
     "end_time": "2022-04-24T21:46:29.385477Z",
     "start_time": "2022-04-24T21:46:27.783669Z"
    }
   },
   "outputs": [
    {
     "name": "stdout",
     "output_type": "stream",
     "text": [
      "(5280351, 5)\n"
     ]
    },
    {
     "data": {
      "text/html": [
       "<div>\n",
       "<style scoped>\n",
       "    .dataframe tbody tr th:only-of-type {\n",
       "        vertical-align: middle;\n",
       "    }\n",
       "\n",
       "    .dataframe tbody tr th {\n",
       "        vertical-align: top;\n",
       "    }\n",
       "\n",
       "    .dataframe thead th {\n",
       "        text-align: right;\n",
       "    }\n",
       "</style>\n",
       "<table border=\"1\" class=\"dataframe\">\n",
       "  <thead>\n",
       "    <tr style=\"text-align: right;\">\n",
       "      <th></th>\n",
       "      <th>subject_id</th>\n",
       "      <th>hadm_id</th>\n",
       "      <th>seq_num</th>\n",
       "      <th>icd_code</th>\n",
       "      <th>icd_version</th>\n",
       "    </tr>\n",
       "  </thead>\n",
       "  <tbody>\n",
       "    <tr>\n",
       "      <th>0</th>\n",
       "      <td>15734973</td>\n",
       "      <td>20475282</td>\n",
       "      <td>3</td>\n",
       "      <td>2825</td>\n",
       "      <td>9</td>\n",
       "    </tr>\n",
       "    <tr>\n",
       "      <th>1</th>\n",
       "      <td>15734973</td>\n",
       "      <td>20475282</td>\n",
       "      <td>2</td>\n",
       "      <td>V0251</td>\n",
       "      <td>9</td>\n",
       "    </tr>\n",
       "    <tr>\n",
       "      <th>2</th>\n",
       "      <td>15734973</td>\n",
       "      <td>20475282</td>\n",
       "      <td>5</td>\n",
       "      <td>V270</td>\n",
       "      <td>9</td>\n",
       "    </tr>\n",
       "    <tr>\n",
       "      <th>3</th>\n",
       "      <td>15734973</td>\n",
       "      <td>20475282</td>\n",
       "      <td>1</td>\n",
       "      <td>64891</td>\n",
       "      <td>9</td>\n",
       "    </tr>\n",
       "    <tr>\n",
       "      <th>4</th>\n",
       "      <td>15734973</td>\n",
       "      <td>20475282</td>\n",
       "      <td>4</td>\n",
       "      <td>66481</td>\n",
       "      <td>9</td>\n",
       "    </tr>\n",
       "  </tbody>\n",
       "</table>\n",
       "</div>"
      ],
      "text/plain": [
       "   subject_id   hadm_id  seq_num icd_code  icd_version\n",
       "0    15734973  20475282        3     2825            9\n",
       "1    15734973  20475282        2    V0251            9\n",
       "2    15734973  20475282        5     V270            9\n",
       "3    15734973  20475282        1    64891            9\n",
       "4    15734973  20475282        4    66481            9"
      ]
     },
     "execution_count": 24,
     "metadata": {},
     "output_type": "execute_result"
    }
   ],
   "source": [
    "diagnoses_icd = pd.read_csv(os.path.join(data_path, 'raw/mimic4/diagnoses_icd.csv'))\n",
    "print(diagnoses_icd.shape)\n",
    "diagnoses_icd.head()"
   ]
  },
  {
   "cell_type": "code",
   "execution_count": 25,
   "metadata": {
    "ExecuteTime": {
     "end_time": "2022-04-24T21:46:29.832291Z",
     "start_time": "2022-04-24T21:46:29.387389Z"
    }
   },
   "outputs": [
    {
     "name": "stdout",
     "output_type": "stream",
     "text": [
      "(5280351, 5)\n"
     ]
    }
   ],
   "source": [
    "diagnoses_icd = diagnoses_icd.dropna()\n",
    "print(diagnoses_icd.shape)"
   ]
  },
  {
   "cell_type": "code",
   "execution_count": 26,
   "metadata": {
    "ExecuteTime": {
     "end_time": "2022-04-24T21:46:31.183788Z",
     "start_time": "2022-04-24T21:46:29.833676Z"
    }
   },
   "outputs": [
    {
     "name": "stdout",
     "output_type": "stream",
     "text": [
      "(5280351, 5)\n"
     ]
    }
   ],
   "source": [
    "diagnoses_icd = diagnoses_icd.drop_duplicates()\n",
    "print(diagnoses_icd.shape)"
   ]
  },
  {
   "cell_type": "code",
   "execution_count": 27,
   "metadata": {
    "ExecuteTime": {
     "end_time": "2022-04-24T21:46:33.450381Z",
     "start_time": "2022-04-24T21:46:31.184975Z"
    }
   },
   "outputs": [
    {
     "data": {
      "text/html": [
       "<div>\n",
       "<style scoped>\n",
       "    .dataframe tbody tr th:only-of-type {\n",
       "        vertical-align: middle;\n",
       "    }\n",
       "\n",
       "    .dataframe tbody tr th {\n",
       "        vertical-align: top;\n",
       "    }\n",
       "\n",
       "    .dataframe thead th {\n",
       "        text-align: right;\n",
       "    }\n",
       "</style>\n",
       "<table border=\"1\" class=\"dataframe\">\n",
       "  <thead>\n",
       "    <tr style=\"text-align: right;\">\n",
       "      <th></th>\n",
       "      <th>subject_id</th>\n",
       "      <th>hadm_id</th>\n",
       "      <th>seq_num</th>\n",
       "      <th>icd_code</th>\n",
       "      <th>icd_version</th>\n",
       "    </tr>\n",
       "  </thead>\n",
       "  <tbody>\n",
       "    <tr>\n",
       "      <th>368080</th>\n",
       "      <td>10000019</td>\n",
       "      <td>25058216</td>\n",
       "      <td>1</td>\n",
       "      <td>V3000</td>\n",
       "      <td>9</td>\n",
       "    </tr>\n",
       "    <tr>\n",
       "      <th>368079</th>\n",
       "      <td>10000019</td>\n",
       "      <td>25058216</td>\n",
       "      <td>2</td>\n",
       "      <td>V053</td>\n",
       "      <td>9</td>\n",
       "    </tr>\n",
       "    <tr>\n",
       "      <th>368082</th>\n",
       "      <td>10000019</td>\n",
       "      <td>25058216</td>\n",
       "      <td>3</td>\n",
       "      <td>V502</td>\n",
       "      <td>9</td>\n",
       "    </tr>\n",
       "    <tr>\n",
       "      <th>368081</th>\n",
       "      <td>10000019</td>\n",
       "      <td>25058216</td>\n",
       "      <td>4</td>\n",
       "      <td>V290</td>\n",
       "      <td>9</td>\n",
       "    </tr>\n",
       "    <tr>\n",
       "      <th>2576415</th>\n",
       "      <td>10000032</td>\n",
       "      <td>22595853</td>\n",
       "      <td>1</td>\n",
       "      <td>5723</td>\n",
       "      <td>9</td>\n",
       "    </tr>\n",
       "  </tbody>\n",
       "</table>\n",
       "</div>"
      ],
      "text/plain": [
       "         subject_id   hadm_id  seq_num icd_code  icd_version\n",
       "368080     10000019  25058216        1    V3000            9\n",
       "368079     10000019  25058216        2     V053            9\n",
       "368082     10000019  25058216        3     V502            9\n",
       "368081     10000019  25058216        4     V290            9\n",
       "2576415    10000032  22595853        1     5723            9"
      ]
     },
     "execution_count": 27,
     "metadata": {},
     "output_type": "execute_result"
    }
   ],
   "source": [
    "diagnoses_icd = diagnoses_icd.sort_values(by=['subject_id', 'hadm_id', 'seq_num'])\n",
    "diagnoses_icd.head()"
   ]
  },
  {
   "cell_type": "code",
   "execution_count": 28,
   "metadata": {
    "ExecuteTime": {
     "end_time": "2022-04-24T21:46:33.487999Z",
     "start_time": "2022-04-24T21:46:33.452234Z"
    }
   },
   "outputs": [
    {
     "data": {
      "text/plain": [
       "9     3090370\n",
       "10    2189981\n",
       "Name: icd_version, dtype: int64"
      ]
     },
     "execution_count": 28,
     "metadata": {},
     "output_type": "execute_result"
    }
   ],
   "source": [
    "diagnoses_icd.icd_version.value_counts()"
   ]
  },
  {
   "cell_type": "code",
   "execution_count": 29,
   "metadata": {
    "ExecuteTime": {
     "end_time": "2022-04-24T21:47:43.401327Z",
     "start_time": "2022-04-24T21:46:33.489461Z"
    }
   },
   "outputs": [
    {
     "data": {
      "text/html": [
       "<div>\n",
       "<style scoped>\n",
       "    .dataframe tbody tr th:only-of-type {\n",
       "        vertical-align: middle;\n",
       "    }\n",
       "\n",
       "    .dataframe tbody tr th {\n",
       "        vertical-align: top;\n",
       "    }\n",
       "\n",
       "    .dataframe thead th {\n",
       "        text-align: right;\n",
       "    }\n",
       "</style>\n",
       "<table border=\"1\" class=\"dataframe\">\n",
       "  <thead>\n",
       "    <tr style=\"text-align: right;\">\n",
       "      <th></th>\n",
       "      <th>subject_id</th>\n",
       "      <th>hadm_id</th>\n",
       "      <th>seq_num</th>\n",
       "      <th>icd_code</th>\n",
       "      <th>icd_version</th>\n",
       "    </tr>\n",
       "  </thead>\n",
       "  <tbody>\n",
       "    <tr>\n",
       "      <th>368080</th>\n",
       "      <td>10000019</td>\n",
       "      <td>25058216</td>\n",
       "      <td>1</td>\n",
       "      <td>ICD9_V3000</td>\n",
       "      <td>9</td>\n",
       "    </tr>\n",
       "    <tr>\n",
       "      <th>368079</th>\n",
       "      <td>10000019</td>\n",
       "      <td>25058216</td>\n",
       "      <td>2</td>\n",
       "      <td>ICD9_V053</td>\n",
       "      <td>9</td>\n",
       "    </tr>\n",
       "    <tr>\n",
       "      <th>368082</th>\n",
       "      <td>10000019</td>\n",
       "      <td>25058216</td>\n",
       "      <td>3</td>\n",
       "      <td>ICD9_V502</td>\n",
       "      <td>9</td>\n",
       "    </tr>\n",
       "    <tr>\n",
       "      <th>368081</th>\n",
       "      <td>10000019</td>\n",
       "      <td>25058216</td>\n",
       "      <td>4</td>\n",
       "      <td>ICD9_V290</td>\n",
       "      <td>9</td>\n",
       "    </tr>\n",
       "    <tr>\n",
       "      <th>2576415</th>\n",
       "      <td>10000032</td>\n",
       "      <td>22595853</td>\n",
       "      <td>1</td>\n",
       "      <td>ICD9_5723</td>\n",
       "      <td>9</td>\n",
       "    </tr>\n",
       "  </tbody>\n",
       "</table>\n",
       "</div>"
      ],
      "text/plain": [
       "         subject_id   hadm_id  seq_num    icd_code  icd_version\n",
       "368080     10000019  25058216        1  ICD9_V3000            9\n",
       "368079     10000019  25058216        2   ICD9_V053            9\n",
       "368082     10000019  25058216        3   ICD9_V502            9\n",
       "368081     10000019  25058216        4   ICD9_V290            9\n",
       "2576415    10000032  22595853        1   ICD9_5723            9"
      ]
     },
     "execution_count": 29,
     "metadata": {},
     "output_type": "execute_result"
    }
   ],
   "source": [
    "diagnoses_icd['icd_code'] = diagnoses_icd.apply(lambda x: f'ICD{x.icd_version}_{x.icd_code}', axis=1)\n",
    "diagnoses_icd.head()"
   ]
  },
  {
   "cell_type": "code",
   "execution_count": 30,
   "metadata": {
    "ExecuteTime": {
     "end_time": "2022-04-24T21:47:43.410288Z",
     "start_time": "2022-04-24T21:47:43.403512Z"
    }
   },
   "outputs": [
    {
     "name": "stdout",
     "output_type": "stream",
     "text": [
      "V46\n",
      "N28\n",
      "ICD10_M00\n",
      "ICD9_E884\n"
     ]
    }
   ],
   "source": [
    "def diag_icd9_to_3digit(icd9):\n",
    "    if icd9.startswith('E'):\n",
    "        if len(icd9) >= 4: \n",
    "            return icd9[:4]\n",
    "        else:\n",
    "            print(icd9)\n",
    "            return icd9\n",
    "    else:\n",
    "        if len(icd9) >= 3: \n",
    "            return icd9[:3]\n",
    "        else:\n",
    "            print(icd9)\n",
    "            return icd9\n",
    "        \n",
    "        \n",
    "def diag_icd10_to_3digit(icd10):\n",
    "    if len(icd10) >= 3: \n",
    "        return icd10[:3]\n",
    "    else:\n",
    "        print(icd10)\n",
    "        return icd10\n",
    "    \n",
    "    \n",
    "def diag_icd_to_3digit(icd):\n",
    "    if icd[:4] == 'ICD9':\n",
    "        return 'ICD9_' + diag_icd9_to_3digit(icd[5:])\n",
    "    elif icd[:5] == 'ICD10':\n",
    "        return 'ICD10_' + diag_icd10_to_3digit(icd[6:])\n",
    "    else:\n",
    "        raise\n",
    "    \n",
    "        \n",
    "print(diag_icd9_to_3digit('V463'))\n",
    "print(diag_icd10_to_3digit('N2889'))\n",
    "print(diag_icd_to_3digit('ICD10_M00871'))\n",
    "print(diag_icd_to_3digit('ICD9_E8841'))"
   ]
  },
  {
   "cell_type": "code",
   "execution_count": 31,
   "metadata": {
    "ExecuteTime": {
     "end_time": "2022-04-24T21:47:46.635274Z",
     "start_time": "2022-04-24T21:47:43.412031Z"
    }
   },
   "outputs": [
    {
     "data": {
      "text/html": [
       "<div>\n",
       "<style scoped>\n",
       "    .dataframe tbody tr th:only-of-type {\n",
       "        vertical-align: middle;\n",
       "    }\n",
       "\n",
       "    .dataframe tbody tr th {\n",
       "        vertical-align: top;\n",
       "    }\n",
       "\n",
       "    .dataframe thead th {\n",
       "        text-align: right;\n",
       "    }\n",
       "</style>\n",
       "<table border=\"1\" class=\"dataframe\">\n",
       "  <thead>\n",
       "    <tr style=\"text-align: right;\">\n",
       "      <th></th>\n",
       "      <th>subject_id</th>\n",
       "      <th>hadm_id</th>\n",
       "      <th>seq_num</th>\n",
       "      <th>icd_code</th>\n",
       "      <th>icd_version</th>\n",
       "      <th>icd_3digit</th>\n",
       "    </tr>\n",
       "  </thead>\n",
       "  <tbody>\n",
       "    <tr>\n",
       "      <th>368080</th>\n",
       "      <td>10000019</td>\n",
       "      <td>25058216</td>\n",
       "      <td>1</td>\n",
       "      <td>ICD9_V3000</td>\n",
       "      <td>9</td>\n",
       "      <td>ICD9_V30</td>\n",
       "    </tr>\n",
       "    <tr>\n",
       "      <th>368079</th>\n",
       "      <td>10000019</td>\n",
       "      <td>25058216</td>\n",
       "      <td>2</td>\n",
       "      <td>ICD9_V053</td>\n",
       "      <td>9</td>\n",
       "      <td>ICD9_V05</td>\n",
       "    </tr>\n",
       "    <tr>\n",
       "      <th>368082</th>\n",
       "      <td>10000019</td>\n",
       "      <td>25058216</td>\n",
       "      <td>3</td>\n",
       "      <td>ICD9_V502</td>\n",
       "      <td>9</td>\n",
       "      <td>ICD9_V50</td>\n",
       "    </tr>\n",
       "    <tr>\n",
       "      <th>368081</th>\n",
       "      <td>10000019</td>\n",
       "      <td>25058216</td>\n",
       "      <td>4</td>\n",
       "      <td>ICD9_V290</td>\n",
       "      <td>9</td>\n",
       "      <td>ICD9_V29</td>\n",
       "    </tr>\n",
       "    <tr>\n",
       "      <th>2576415</th>\n",
       "      <td>10000032</td>\n",
       "      <td>22595853</td>\n",
       "      <td>1</td>\n",
       "      <td>ICD9_5723</td>\n",
       "      <td>9</td>\n",
       "      <td>ICD9_572</td>\n",
       "    </tr>\n",
       "  </tbody>\n",
       "</table>\n",
       "</div>"
      ],
      "text/plain": [
       "         subject_id   hadm_id  seq_num    icd_code  icd_version icd_3digit\n",
       "368080     10000019  25058216        1  ICD9_V3000            9   ICD9_V30\n",
       "368079     10000019  25058216        2   ICD9_V053            9   ICD9_V05\n",
       "368082     10000019  25058216        3   ICD9_V502            9   ICD9_V50\n",
       "368081     10000019  25058216        4   ICD9_V290            9   ICD9_V29\n",
       "2576415    10000032  22595853        1   ICD9_5723            9   ICD9_572"
      ]
     },
     "execution_count": 31,
     "metadata": {},
     "output_type": "execute_result"
    }
   ],
   "source": [
    "diagnoses_icd['icd_3digit'] = diagnoses_icd.icd_code.apply(lambda x: diag_icd_to_3digit(x))\n",
    "diagnoses_icd.head()"
   ]
  },
  {
   "cell_type": "code",
   "execution_count": 32,
   "metadata": {
    "ExecuteTime": {
     "end_time": "2022-04-24T21:47:46.906298Z",
     "start_time": "2022-04-24T21:47:46.642976Z"
    }
   },
   "outputs": [
    {
     "name": "stdout",
     "output_type": "stream",
     "text": [
      "2898\n"
     ]
    }
   ],
   "source": [
    "print(diagnoses_icd.icd_3digit.nunique())"
   ]
  },
  {
   "cell_type": "code",
   "execution_count": 33,
   "metadata": {
    "ExecuteTime": {
     "end_time": "2022-04-24T21:47:46.911474Z",
     "start_time": "2022-04-24T21:47:46.907913Z"
    }
   },
   "outputs": [
    {
     "data": {
      "text/plain": [
       "'00168007011 <sep> 00409915701'"
      ]
     },
     "execution_count": 33,
     "metadata": {},
     "output_type": "execute_result"
    }
   ],
   "source": [
    "def list_join(lst):\n",
    "    return ' <sep> '.join(lst)\n",
    "\n",
    "list_join(['00168007011', '00409915701'])"
   ]
  },
  {
   "cell_type": "code",
   "execution_count": 34,
   "metadata": {
    "ExecuteTime": {
     "end_time": "2022-04-24T21:47:49.810487Z",
     "start_time": "2022-04-24T21:47:46.912819Z"
    }
   },
   "outputs": [
    {
     "data": {
      "text/html": [
       "<div>\n",
       "<style scoped>\n",
       "    .dataframe tbody tr th:only-of-type {\n",
       "        vertical-align: middle;\n",
       "    }\n",
       "\n",
       "    .dataframe tbody tr th {\n",
       "        vertical-align: top;\n",
       "    }\n",
       "\n",
       "    .dataframe thead th {\n",
       "        text-align: right;\n",
       "    }\n",
       "</style>\n",
       "<table border=\"1\" class=\"dataframe\">\n",
       "  <thead>\n",
       "    <tr style=\"text-align: right;\">\n",
       "      <th></th>\n",
       "      <th>subject_id</th>\n",
       "      <th>hadm_id</th>\n",
       "      <th>icd_3digit</th>\n",
       "    </tr>\n",
       "  </thead>\n",
       "  <tbody>\n",
       "    <tr>\n",
       "      <th>0</th>\n",
       "      <td>10000019</td>\n",
       "      <td>25058216</td>\n",
       "      <td>ICD9_V30 &lt;sep&gt; ICD9_V05 &lt;sep&gt; ICD9_V50 &lt;sep&gt; I...</td>\n",
       "    </tr>\n",
       "    <tr>\n",
       "      <th>1</th>\n",
       "      <td>10000032</td>\n",
       "      <td>22595853</td>\n",
       "      <td>ICD9_572 &lt;sep&gt; ICD9_789 &lt;sep&gt; ICD9_571 &lt;sep&gt; I...</td>\n",
       "    </tr>\n",
       "    <tr>\n",
       "      <th>2</th>\n",
       "      <td>10000032</td>\n",
       "      <td>22841357</td>\n",
       "      <td>ICD9_070 &lt;sep&gt; ICD9_789 &lt;sep&gt; ICD9_287 &lt;sep&gt; I...</td>\n",
       "    </tr>\n",
       "    <tr>\n",
       "      <th>3</th>\n",
       "      <td>10000032</td>\n",
       "      <td>25742920</td>\n",
       "      <td>ICD9_070 &lt;sep&gt; ICD9_789 &lt;sep&gt; ICD9_V46 &lt;sep&gt; I...</td>\n",
       "    </tr>\n",
       "    <tr>\n",
       "      <th>4</th>\n",
       "      <td>10000032</td>\n",
       "      <td>29079034</td>\n",
       "      <td>ICD9_458 &lt;sep&gt; ICD9_070 &lt;sep&gt; ICD9_799 &lt;sep&gt; I...</td>\n",
       "    </tr>\n",
       "  </tbody>\n",
       "</table>\n",
       "</div>"
      ],
      "text/plain": [
       "   subject_id   hadm_id                                         icd_3digit\n",
       "0    10000019  25058216  ICD9_V30 <sep> ICD9_V05 <sep> ICD9_V50 <sep> I...\n",
       "1    10000032  22595853  ICD9_572 <sep> ICD9_789 <sep> ICD9_571 <sep> I...\n",
       "2    10000032  22841357  ICD9_070 <sep> ICD9_789 <sep> ICD9_287 <sep> I...\n",
       "3    10000032  25742920  ICD9_070 <sep> ICD9_789 <sep> ICD9_V46 <sep> I...\n",
       "4    10000032  29079034  ICD9_458 <sep> ICD9_070 <sep> ICD9_799 <sep> I..."
      ]
     },
     "execution_count": 34,
     "metadata": {},
     "output_type": "execute_result"
    }
   ],
   "source": [
    "diagnoses_icd = diagnoses_icd.groupby(['subject_id', 'hadm_id']).agg({'icd_3digit': list_join}).reset_index()\n",
    "diagnoses_icd.head()"
   ]
  },
  {
   "cell_type": "code",
   "execution_count": 35,
   "metadata": {
    "ExecuteTime": {
     "end_time": "2022-04-24T21:47:49.835704Z",
     "start_time": "2022-04-24T21:47:49.812256Z"
    }
   },
   "outputs": [
    {
     "data": {
      "text/html": [
       "<div>\n",
       "<style scoped>\n",
       "    .dataframe tbody tr th:only-of-type {\n",
       "        vertical-align: middle;\n",
       "    }\n",
       "\n",
       "    .dataframe tbody tr th {\n",
       "        vertical-align: top;\n",
       "    }\n",
       "\n",
       "    .dataframe thead th {\n",
       "        text-align: right;\n",
       "    }\n",
       "</style>\n",
       "<table border=\"1\" class=\"dataframe\">\n",
       "  <thead>\n",
       "    <tr style=\"text-align: right;\">\n",
       "      <th></th>\n",
       "      <th>subject_id</th>\n",
       "      <th>hadm_id</th>\n",
       "      <th>diagnoses</th>\n",
       "    </tr>\n",
       "  </thead>\n",
       "  <tbody>\n",
       "    <tr>\n",
       "      <th>0</th>\n",
       "      <td>10000019</td>\n",
       "      <td>25058216</td>\n",
       "      <td>ICD9_V30 &lt;sep&gt; ICD9_V05 &lt;sep&gt; ICD9_V50 &lt;sep&gt; I...</td>\n",
       "    </tr>\n",
       "    <tr>\n",
       "      <th>1</th>\n",
       "      <td>10000032</td>\n",
       "      <td>22595853</td>\n",
       "      <td>ICD9_572 &lt;sep&gt; ICD9_789 &lt;sep&gt; ICD9_571 &lt;sep&gt; I...</td>\n",
       "    </tr>\n",
       "    <tr>\n",
       "      <th>2</th>\n",
       "      <td>10000032</td>\n",
       "      <td>22841357</td>\n",
       "      <td>ICD9_070 &lt;sep&gt; ICD9_789 &lt;sep&gt; ICD9_287 &lt;sep&gt; I...</td>\n",
       "    </tr>\n",
       "    <tr>\n",
       "      <th>3</th>\n",
       "      <td>10000032</td>\n",
       "      <td>25742920</td>\n",
       "      <td>ICD9_070 &lt;sep&gt; ICD9_789 &lt;sep&gt; ICD9_V46 &lt;sep&gt; I...</td>\n",
       "    </tr>\n",
       "    <tr>\n",
       "      <th>4</th>\n",
       "      <td>10000032</td>\n",
       "      <td>29079034</td>\n",
       "      <td>ICD9_458 &lt;sep&gt; ICD9_070 &lt;sep&gt; ICD9_799 &lt;sep&gt; I...</td>\n",
       "    </tr>\n",
       "  </tbody>\n",
       "</table>\n",
       "</div>"
      ],
      "text/plain": [
       "   subject_id   hadm_id                                          diagnoses\n",
       "0    10000019  25058216  ICD9_V30 <sep> ICD9_V05 <sep> ICD9_V50 <sep> I...\n",
       "1    10000032  22595853  ICD9_572 <sep> ICD9_789 <sep> ICD9_571 <sep> I...\n",
       "2    10000032  22841357  ICD9_070 <sep> ICD9_789 <sep> ICD9_287 <sep> I...\n",
       "3    10000032  25742920  ICD9_070 <sep> ICD9_789 <sep> ICD9_V46 <sep> I...\n",
       "4    10000032  29079034  ICD9_458 <sep> ICD9_070 <sep> ICD9_799 <sep> I..."
      ]
     },
     "execution_count": 35,
     "metadata": {},
     "output_type": "execute_result"
    }
   ],
   "source": [
    "diagnoses_icd = diagnoses_icd.rename(columns={'icd_3digit': 'diagnoses'})\n",
    "diagnoses_icd.head()"
   ]
  },
  {
   "cell_type": "markdown",
   "metadata": {},
   "source": [
    "## procedures_icd"
   ]
  },
  {
   "cell_type": "code",
   "execution_count": 36,
   "metadata": {
    "ExecuteTime": {
     "end_time": "2022-04-24T21:47:50.221842Z",
     "start_time": "2022-04-24T21:47:49.837494Z"
    }
   },
   "outputs": [
    {
     "name": "stdout",
     "output_type": "stream",
     "text": [
      "(779625, 6)\n"
     ]
    },
    {
     "data": {
      "text/html": [
       "<div>\n",
       "<style scoped>\n",
       "    .dataframe tbody tr th:only-of-type {\n",
       "        vertical-align: middle;\n",
       "    }\n",
       "\n",
       "    .dataframe tbody tr th {\n",
       "        vertical-align: top;\n",
       "    }\n",
       "\n",
       "    .dataframe thead th {\n",
       "        text-align: right;\n",
       "    }\n",
       "</style>\n",
       "<table border=\"1\" class=\"dataframe\">\n",
       "  <thead>\n",
       "    <tr style=\"text-align: right;\">\n",
       "      <th></th>\n",
       "      <th>subject_id</th>\n",
       "      <th>hadm_id</th>\n",
       "      <th>seq_num</th>\n",
       "      <th>chartdate</th>\n",
       "      <th>icd_code</th>\n",
       "      <th>icd_version</th>\n",
       "    </tr>\n",
       "  </thead>\n",
       "  <tbody>\n",
       "    <tr>\n",
       "      <th>0</th>\n",
       "      <td>10287061</td>\n",
       "      <td>27485182</td>\n",
       "      <td>1</td>\n",
       "      <td>2124-08-22</td>\n",
       "      <td>7569</td>\n",
       "      <td>9</td>\n",
       "    </tr>\n",
       "    <tr>\n",
       "      <th>1</th>\n",
       "      <td>13135573</td>\n",
       "      <td>22286210</td>\n",
       "      <td>3</td>\n",
       "      <td>2187-05-30</td>\n",
       "      <td>7309</td>\n",
       "      <td>9</td>\n",
       "    </tr>\n",
       "    <tr>\n",
       "      <th>2</th>\n",
       "      <td>13135573</td>\n",
       "      <td>22286210</td>\n",
       "      <td>1</td>\n",
       "      <td>2187-05-30</td>\n",
       "      <td>7569</td>\n",
       "      <td>9</td>\n",
       "    </tr>\n",
       "    <tr>\n",
       "      <th>3</th>\n",
       "      <td>13135573</td>\n",
       "      <td>22286210</td>\n",
       "      <td>2</td>\n",
       "      <td>2187-05-30</td>\n",
       "      <td>734</td>\n",
       "      <td>9</td>\n",
       "    </tr>\n",
       "    <tr>\n",
       "      <th>4</th>\n",
       "      <td>12646116</td>\n",
       "      <td>24154012</td>\n",
       "      <td>2</td>\n",
       "      <td>2115-01-13</td>\n",
       "      <td>734</td>\n",
       "      <td>9</td>\n",
       "    </tr>\n",
       "  </tbody>\n",
       "</table>\n",
       "</div>"
      ],
      "text/plain": [
       "   subject_id   hadm_id  seq_num   chartdate icd_code  icd_version\n",
       "0    10287061  27485182        1  2124-08-22     7569            9\n",
       "1    13135573  22286210        3  2187-05-30     7309            9\n",
       "2    13135573  22286210        1  2187-05-30     7569            9\n",
       "3    13135573  22286210        2  2187-05-30      734            9\n",
       "4    12646116  24154012        2  2115-01-13      734            9"
      ]
     },
     "execution_count": 36,
     "metadata": {},
     "output_type": "execute_result"
    }
   ],
   "source": [
    "procedures_icd = pd.read_csv(os.path.join(data_path, 'raw/mimic4/procedures_icd.csv'))\n",
    "print(procedures_icd.shape)\n",
    "procedures_icd.head()"
   ]
  },
  {
   "cell_type": "code",
   "execution_count": 37,
   "metadata": {
    "ExecuteTime": {
     "end_time": "2022-04-24T21:47:50.329862Z",
     "start_time": "2022-04-24T21:47:50.223538Z"
    }
   },
   "outputs": [
    {
     "name": "stdout",
     "output_type": "stream",
     "text": [
      "(779625, 6)\n"
     ]
    }
   ],
   "source": [
    "procedures_icd = procedures_icd.dropna()\n",
    "print(procedures_icd.shape)"
   ]
  },
  {
   "cell_type": "code",
   "execution_count": 38,
   "metadata": {
    "ExecuteTime": {
     "end_time": "2022-04-24T21:47:50.639784Z",
     "start_time": "2022-04-24T21:47:50.331194Z"
    }
   },
   "outputs": [
    {
     "name": "stdout",
     "output_type": "stream",
     "text": [
      "(779625, 6)\n"
     ]
    }
   ],
   "source": [
    "procedures_icd = procedures_icd.drop_duplicates()\n",
    "print(procedures_icd.shape)"
   ]
  },
  {
   "cell_type": "code",
   "execution_count": 39,
   "metadata": {
    "ExecuteTime": {
     "end_time": "2022-04-24T21:47:51.033075Z",
     "start_time": "2022-04-24T21:47:50.641501Z"
    }
   },
   "outputs": [
    {
     "data": {
      "text/html": [
       "<div>\n",
       "<style scoped>\n",
       "    .dataframe tbody tr th:only-of-type {\n",
       "        vertical-align: middle;\n",
       "    }\n",
       "\n",
       "    .dataframe tbody tr th {\n",
       "        vertical-align: top;\n",
       "    }\n",
       "\n",
       "    .dataframe thead th {\n",
       "        text-align: right;\n",
       "    }\n",
       "</style>\n",
       "<table border=\"1\" class=\"dataframe\">\n",
       "  <thead>\n",
       "    <tr style=\"text-align: right;\">\n",
       "      <th></th>\n",
       "      <th>subject_id</th>\n",
       "      <th>hadm_id</th>\n",
       "      <th>seq_num</th>\n",
       "      <th>chartdate</th>\n",
       "      <th>icd_code</th>\n",
       "      <th>icd_version</th>\n",
       "    </tr>\n",
       "  </thead>\n",
       "  <tbody>\n",
       "    <tr>\n",
       "      <th>401312</th>\n",
       "      <td>10000019</td>\n",
       "      <td>25058216</td>\n",
       "      <td>1</td>\n",
       "      <td>2129-05-22</td>\n",
       "      <td>640</td>\n",
       "      <td>9</td>\n",
       "    </tr>\n",
       "    <tr>\n",
       "      <th>641529</th>\n",
       "      <td>10000032</td>\n",
       "      <td>22595853</td>\n",
       "      <td>1</td>\n",
       "      <td>2180-05-07</td>\n",
       "      <td>5491</td>\n",
       "      <td>9</td>\n",
       "    </tr>\n",
       "    <tr>\n",
       "      <th>642632</th>\n",
       "      <td>10000032</td>\n",
       "      <td>22841357</td>\n",
       "      <td>1</td>\n",
       "      <td>2180-06-27</td>\n",
       "      <td>5491</td>\n",
       "      <td>9</td>\n",
       "    </tr>\n",
       "    <tr>\n",
       "      <th>643412</th>\n",
       "      <td>10000032</td>\n",
       "      <td>25742920</td>\n",
       "      <td>1</td>\n",
       "      <td>2180-08-06</td>\n",
       "      <td>5491</td>\n",
       "      <td>9</td>\n",
       "    </tr>\n",
       "    <tr>\n",
       "      <th>214668</th>\n",
       "      <td>10000068</td>\n",
       "      <td>25022803</td>\n",
       "      <td>1</td>\n",
       "      <td>2160-03-03</td>\n",
       "      <td>8938</td>\n",
       "      <td>9</td>\n",
       "    </tr>\n",
       "  </tbody>\n",
       "</table>\n",
       "</div>"
      ],
      "text/plain": [
       "        subject_id   hadm_id  seq_num   chartdate icd_code  icd_version\n",
       "401312    10000019  25058216        1  2129-05-22      640            9\n",
       "641529    10000032  22595853        1  2180-05-07     5491            9\n",
       "642632    10000032  22841357        1  2180-06-27     5491            9\n",
       "643412    10000032  25742920        1  2180-08-06     5491            9\n",
       "214668    10000068  25022803        1  2160-03-03     8938            9"
      ]
     },
     "execution_count": 39,
     "metadata": {},
     "output_type": "execute_result"
    }
   ],
   "source": [
    "procedures_icd = procedures_icd.sort_values(by=['subject_id', 'hadm_id', 'seq_num'])\n",
    "procedures_icd.head()"
   ]
  },
  {
   "cell_type": "code",
   "execution_count": 40,
   "metadata": {
    "ExecuteTime": {
     "end_time": "2022-04-24T21:47:51.043452Z",
     "start_time": "2022-04-24T21:47:51.034855Z"
    }
   },
   "outputs": [
    {
     "data": {
      "text/plain": [
       "9     521037\n",
       "10    258588\n",
       "Name: icd_version, dtype: int64"
      ]
     },
     "execution_count": 40,
     "metadata": {},
     "output_type": "execute_result"
    }
   ],
   "source": [
    "procedures_icd.icd_version.value_counts()"
   ]
  },
  {
   "cell_type": "code",
   "execution_count": 41,
   "metadata": {
    "ExecuteTime": {
     "end_time": "2022-04-24T21:48:01.397350Z",
     "start_time": "2022-04-24T21:47:51.045048Z"
    }
   },
   "outputs": [
    {
     "data": {
      "text/html": [
       "<div>\n",
       "<style scoped>\n",
       "    .dataframe tbody tr th:only-of-type {\n",
       "        vertical-align: middle;\n",
       "    }\n",
       "\n",
       "    .dataframe tbody tr th {\n",
       "        vertical-align: top;\n",
       "    }\n",
       "\n",
       "    .dataframe thead th {\n",
       "        text-align: right;\n",
       "    }\n",
       "</style>\n",
       "<table border=\"1\" class=\"dataframe\">\n",
       "  <thead>\n",
       "    <tr style=\"text-align: right;\">\n",
       "      <th></th>\n",
       "      <th>subject_id</th>\n",
       "      <th>hadm_id</th>\n",
       "      <th>seq_num</th>\n",
       "      <th>chartdate</th>\n",
       "      <th>icd_code</th>\n",
       "      <th>icd_version</th>\n",
       "    </tr>\n",
       "  </thead>\n",
       "  <tbody>\n",
       "    <tr>\n",
       "      <th>401312</th>\n",
       "      <td>10000019</td>\n",
       "      <td>25058216</td>\n",
       "      <td>1</td>\n",
       "      <td>2129-05-22</td>\n",
       "      <td>ICD9_640</td>\n",
       "      <td>9</td>\n",
       "    </tr>\n",
       "    <tr>\n",
       "      <th>641529</th>\n",
       "      <td>10000032</td>\n",
       "      <td>22595853</td>\n",
       "      <td>1</td>\n",
       "      <td>2180-05-07</td>\n",
       "      <td>ICD9_5491</td>\n",
       "      <td>9</td>\n",
       "    </tr>\n",
       "    <tr>\n",
       "      <th>642632</th>\n",
       "      <td>10000032</td>\n",
       "      <td>22841357</td>\n",
       "      <td>1</td>\n",
       "      <td>2180-06-27</td>\n",
       "      <td>ICD9_5491</td>\n",
       "      <td>9</td>\n",
       "    </tr>\n",
       "    <tr>\n",
       "      <th>643412</th>\n",
       "      <td>10000032</td>\n",
       "      <td>25742920</td>\n",
       "      <td>1</td>\n",
       "      <td>2180-08-06</td>\n",
       "      <td>ICD9_5491</td>\n",
       "      <td>9</td>\n",
       "    </tr>\n",
       "    <tr>\n",
       "      <th>214668</th>\n",
       "      <td>10000068</td>\n",
       "      <td>25022803</td>\n",
       "      <td>1</td>\n",
       "      <td>2160-03-03</td>\n",
       "      <td>ICD9_8938</td>\n",
       "      <td>9</td>\n",
       "    </tr>\n",
       "  </tbody>\n",
       "</table>\n",
       "</div>"
      ],
      "text/plain": [
       "        subject_id   hadm_id  seq_num   chartdate   icd_code  icd_version\n",
       "401312    10000019  25058216        1  2129-05-22   ICD9_640            9\n",
       "641529    10000032  22595853        1  2180-05-07  ICD9_5491            9\n",
       "642632    10000032  22841357        1  2180-06-27  ICD9_5491            9\n",
       "643412    10000032  25742920        1  2180-08-06  ICD9_5491            9\n",
       "214668    10000068  25022803        1  2160-03-03  ICD9_8938            9"
      ]
     },
     "execution_count": 41,
     "metadata": {},
     "output_type": "execute_result"
    }
   ],
   "source": [
    "procedures_icd['icd_code'] = procedures_icd.apply(lambda x: f'ICD{x.icd_version}_{x.icd_code}', axis=1)\n",
    "procedures_icd.head()"
   ]
  },
  {
   "cell_type": "code",
   "execution_count": 42,
   "metadata": {
    "ExecuteTime": {
     "end_time": "2022-04-24T21:48:01.453655Z",
     "start_time": "2022-04-24T21:48:01.399051Z"
    }
   },
   "outputs": [
    {
     "name": "stdout",
     "output_type": "stream",
     "text": [
      "13016\n"
     ]
    }
   ],
   "source": [
    "print(procedures_icd.icd_code.nunique())"
   ]
  },
  {
   "cell_type": "code",
   "execution_count": 43,
   "metadata": {
    "ExecuteTime": {
     "end_time": "2022-04-24T21:48:01.459948Z",
     "start_time": "2022-04-24T21:48:01.455013Z"
    }
   },
   "outputs": [
    {
     "name": "stdout",
     "output_type": "stream",
     "text": [
      "060\n",
      "0GT\n",
      "ICD9_858\n",
      "ICD10_D70\n"
     ]
    }
   ],
   "source": [
    "def proc_icd9_to_3digit(icd9):\n",
    "    if len(icd9) >= 3: \n",
    "        return icd9[:3]\n",
    "    else:\n",
    "        print(icd9)\n",
    "        return icd9\n",
    "    \n",
    "    \n",
    "def proc_icd10_to_3digit(icd10):\n",
    "    if len(icd10) >= 3: \n",
    "        return icd10[:3]\n",
    "    else:\n",
    "        print(icd10)\n",
    "        return icd10\n",
    "    \n",
    "    \n",
    "def proc_icd_to_3digit(icd):\n",
    "    if icd[:4] == 'ICD9':\n",
    "        return 'ICD9_' + proc_icd9_to_3digit(icd[5:])\n",
    "    elif icd[:5] == 'ICD10':\n",
    "        return 'ICD10_' + proc_icd10_to_3digit(icd[6:])\n",
    "    else:\n",
    "        raise\n",
    "            \n",
    "        \n",
    "print(proc_icd9_to_3digit('0601'))\n",
    "print(proc_icd10_to_3digit('0GTH0ZZ'))\n",
    "print(proc_icd_to_3digit('ICD9_8584'))\n",
    "print(proc_icd_to_3digit('ICD10_D7021ZZ'))"
   ]
  },
  {
   "cell_type": "code",
   "execution_count": 44,
   "metadata": {
    "ExecuteTime": {
     "end_time": "2022-04-24T21:48:01.923204Z",
     "start_time": "2022-04-24T21:48:01.461248Z"
    }
   },
   "outputs": [
    {
     "data": {
      "text/html": [
       "<div>\n",
       "<style scoped>\n",
       "    .dataframe tbody tr th:only-of-type {\n",
       "        vertical-align: middle;\n",
       "    }\n",
       "\n",
       "    .dataframe tbody tr th {\n",
       "        vertical-align: top;\n",
       "    }\n",
       "\n",
       "    .dataframe thead th {\n",
       "        text-align: right;\n",
       "    }\n",
       "</style>\n",
       "<table border=\"1\" class=\"dataframe\">\n",
       "  <thead>\n",
       "    <tr style=\"text-align: right;\">\n",
       "      <th></th>\n",
       "      <th>subject_id</th>\n",
       "      <th>hadm_id</th>\n",
       "      <th>seq_num</th>\n",
       "      <th>chartdate</th>\n",
       "      <th>icd_code</th>\n",
       "      <th>icd_version</th>\n",
       "      <th>icd_3digit</th>\n",
       "    </tr>\n",
       "  </thead>\n",
       "  <tbody>\n",
       "    <tr>\n",
       "      <th>401312</th>\n",
       "      <td>10000019</td>\n",
       "      <td>25058216</td>\n",
       "      <td>1</td>\n",
       "      <td>2129-05-22</td>\n",
       "      <td>ICD9_640</td>\n",
       "      <td>9</td>\n",
       "      <td>ICD9_640</td>\n",
       "    </tr>\n",
       "    <tr>\n",
       "      <th>641529</th>\n",
       "      <td>10000032</td>\n",
       "      <td>22595853</td>\n",
       "      <td>1</td>\n",
       "      <td>2180-05-07</td>\n",
       "      <td>ICD9_5491</td>\n",
       "      <td>9</td>\n",
       "      <td>ICD9_549</td>\n",
       "    </tr>\n",
       "    <tr>\n",
       "      <th>642632</th>\n",
       "      <td>10000032</td>\n",
       "      <td>22841357</td>\n",
       "      <td>1</td>\n",
       "      <td>2180-06-27</td>\n",
       "      <td>ICD9_5491</td>\n",
       "      <td>9</td>\n",
       "      <td>ICD9_549</td>\n",
       "    </tr>\n",
       "    <tr>\n",
       "      <th>643412</th>\n",
       "      <td>10000032</td>\n",
       "      <td>25742920</td>\n",
       "      <td>1</td>\n",
       "      <td>2180-08-06</td>\n",
       "      <td>ICD9_5491</td>\n",
       "      <td>9</td>\n",
       "      <td>ICD9_549</td>\n",
       "    </tr>\n",
       "    <tr>\n",
       "      <th>214668</th>\n",
       "      <td>10000068</td>\n",
       "      <td>25022803</td>\n",
       "      <td>1</td>\n",
       "      <td>2160-03-03</td>\n",
       "      <td>ICD9_8938</td>\n",
       "      <td>9</td>\n",
       "      <td>ICD9_893</td>\n",
       "    </tr>\n",
       "  </tbody>\n",
       "</table>\n",
       "</div>"
      ],
      "text/plain": [
       "        subject_id   hadm_id  seq_num   chartdate   icd_code  icd_version  \\\n",
       "401312    10000019  25058216        1  2129-05-22   ICD9_640            9   \n",
       "641529    10000032  22595853        1  2180-05-07  ICD9_5491            9   \n",
       "642632    10000032  22841357        1  2180-06-27  ICD9_5491            9   \n",
       "643412    10000032  25742920        1  2180-08-06  ICD9_5491            9   \n",
       "214668    10000068  25022803        1  2160-03-03  ICD9_8938            9   \n",
       "\n",
       "       icd_3digit  \n",
       "401312   ICD9_640  \n",
       "641529   ICD9_549  \n",
       "642632   ICD9_549  \n",
       "643412   ICD9_549  \n",
       "214668   ICD9_893  "
      ]
     },
     "execution_count": 44,
     "metadata": {},
     "output_type": "execute_result"
    }
   ],
   "source": [
    "procedures_icd['icd_3digit'] = procedures_icd.icd_code.apply(lambda x: proc_icd_to_3digit(x))\n",
    "procedures_icd.head()"
   ]
  },
  {
   "cell_type": "code",
   "execution_count": 45,
   "metadata": {
    "ExecuteTime": {
     "end_time": "2022-04-24T21:48:03.213611Z",
     "start_time": "2022-04-24T21:48:01.924990Z"
    }
   },
   "outputs": [
    {
     "data": {
      "text/html": [
       "<div>\n",
       "<style scoped>\n",
       "    .dataframe tbody tr th:only-of-type {\n",
       "        vertical-align: middle;\n",
       "    }\n",
       "\n",
       "    .dataframe tbody tr th {\n",
       "        vertical-align: top;\n",
       "    }\n",
       "\n",
       "    .dataframe thead th {\n",
       "        text-align: right;\n",
       "    }\n",
       "</style>\n",
       "<table border=\"1\" class=\"dataframe\">\n",
       "  <thead>\n",
       "    <tr style=\"text-align: right;\">\n",
       "      <th></th>\n",
       "      <th>subject_id</th>\n",
       "      <th>hadm_id</th>\n",
       "      <th>icd_3digit</th>\n",
       "    </tr>\n",
       "  </thead>\n",
       "  <tbody>\n",
       "    <tr>\n",
       "      <th>0</th>\n",
       "      <td>10000019</td>\n",
       "      <td>25058216</td>\n",
       "      <td>ICD9_640</td>\n",
       "    </tr>\n",
       "    <tr>\n",
       "      <th>1</th>\n",
       "      <td>10000032</td>\n",
       "      <td>22595853</td>\n",
       "      <td>ICD9_549</td>\n",
       "    </tr>\n",
       "    <tr>\n",
       "      <th>2</th>\n",
       "      <td>10000032</td>\n",
       "      <td>22841357</td>\n",
       "      <td>ICD9_549</td>\n",
       "    </tr>\n",
       "    <tr>\n",
       "      <th>3</th>\n",
       "      <td>10000032</td>\n",
       "      <td>25742920</td>\n",
       "      <td>ICD9_549</td>\n",
       "    </tr>\n",
       "    <tr>\n",
       "      <th>4</th>\n",
       "      <td>10000068</td>\n",
       "      <td>25022803</td>\n",
       "      <td>ICD9_893</td>\n",
       "    </tr>\n",
       "  </tbody>\n",
       "</table>\n",
       "</div>"
      ],
      "text/plain": [
       "   subject_id   hadm_id icd_3digit\n",
       "0    10000019  25058216   ICD9_640\n",
       "1    10000032  22595853   ICD9_549\n",
       "2    10000032  22841357   ICD9_549\n",
       "3    10000032  25742920   ICD9_549\n",
       "4    10000068  25022803   ICD9_893"
      ]
     },
     "execution_count": 45,
     "metadata": {},
     "output_type": "execute_result"
    }
   ],
   "source": [
    "procedures_icd = procedures_icd.groupby(['subject_id', 'hadm_id']).agg({'icd_3digit': list_join}).reset_index()\n",
    "procedures_icd.head()"
   ]
  },
  {
   "cell_type": "code",
   "execution_count": 46,
   "metadata": {
    "ExecuteTime": {
     "end_time": "2022-04-24T21:48:03.226509Z",
     "start_time": "2022-04-24T21:48:03.215425Z"
    }
   },
   "outputs": [
    {
     "data": {
      "text/html": [
       "<div>\n",
       "<style scoped>\n",
       "    .dataframe tbody tr th:only-of-type {\n",
       "        vertical-align: middle;\n",
       "    }\n",
       "\n",
       "    .dataframe tbody tr th {\n",
       "        vertical-align: top;\n",
       "    }\n",
       "\n",
       "    .dataframe thead th {\n",
       "        text-align: right;\n",
       "    }\n",
       "</style>\n",
       "<table border=\"1\" class=\"dataframe\">\n",
       "  <thead>\n",
       "    <tr style=\"text-align: right;\">\n",
       "      <th></th>\n",
       "      <th>subject_id</th>\n",
       "      <th>hadm_id</th>\n",
       "      <th>procedure</th>\n",
       "    </tr>\n",
       "  </thead>\n",
       "  <tbody>\n",
       "    <tr>\n",
       "      <th>0</th>\n",
       "      <td>10000019</td>\n",
       "      <td>25058216</td>\n",
       "      <td>ICD9_640</td>\n",
       "    </tr>\n",
       "    <tr>\n",
       "      <th>1</th>\n",
       "      <td>10000032</td>\n",
       "      <td>22595853</td>\n",
       "      <td>ICD9_549</td>\n",
       "    </tr>\n",
       "    <tr>\n",
       "      <th>2</th>\n",
       "      <td>10000032</td>\n",
       "      <td>22841357</td>\n",
       "      <td>ICD9_549</td>\n",
       "    </tr>\n",
       "    <tr>\n",
       "      <th>3</th>\n",
       "      <td>10000032</td>\n",
       "      <td>25742920</td>\n",
       "      <td>ICD9_549</td>\n",
       "    </tr>\n",
       "    <tr>\n",
       "      <th>4</th>\n",
       "      <td>10000068</td>\n",
       "      <td>25022803</td>\n",
       "      <td>ICD9_893</td>\n",
       "    </tr>\n",
       "  </tbody>\n",
       "</table>\n",
       "</div>"
      ],
      "text/plain": [
       "   subject_id   hadm_id procedure\n",
       "0    10000019  25058216  ICD9_640\n",
       "1    10000032  22595853  ICD9_549\n",
       "2    10000032  22841357  ICD9_549\n",
       "3    10000032  25742920  ICD9_549\n",
       "4    10000068  25022803  ICD9_893"
      ]
     },
     "execution_count": 46,
     "metadata": {},
     "output_type": "execute_result"
    }
   ],
   "source": [
    "procedures_icd = procedures_icd.rename(columns={'icd_3digit': 'procedure'})\n",
    "procedures_icd.head()"
   ]
  },
  {
   "cell_type": "markdown",
   "metadata": {},
   "source": [
    "## merge"
   ]
  },
  {
   "cell_type": "code",
   "execution_count": 47,
   "metadata": {
    "ExecuteTime": {
     "end_time": "2022-04-24T21:48:03.360105Z",
     "start_time": "2022-04-24T21:48:03.228207Z"
    }
   },
   "outputs": [
    {
     "data": {
      "text/html": [
       "<div>\n",
       "<style scoped>\n",
       "    .dataframe tbody tr th:only-of-type {\n",
       "        vertical-align: middle;\n",
       "    }\n",
       "\n",
       "    .dataframe tbody tr th {\n",
       "        vertical-align: top;\n",
       "    }\n",
       "\n",
       "    .dataframe thead th {\n",
       "        text-align: right;\n",
       "    }\n",
       "</style>\n",
       "<table border=\"1\" class=\"dataframe\">\n",
       "  <thead>\n",
       "    <tr style=\"text-align: right;\">\n",
       "      <th></th>\n",
       "      <th>subject_id</th>\n",
       "      <th>hadm_id</th>\n",
       "      <th>ethnicity</th>\n",
       "      <th>admittime</th>\n",
       "      <th>mortality</th>\n",
       "      <th>readmission</th>\n",
       "      <th>gender</th>\n",
       "      <th>anchor_age</th>\n",
       "      <th>anchor_year</th>\n",
       "      <th>real_anchor_year_sample</th>\n",
       "    </tr>\n",
       "  </thead>\n",
       "  <tbody>\n",
       "    <tr>\n",
       "      <th>0</th>\n",
       "      <td>10000019</td>\n",
       "      <td>25058216</td>\n",
       "      <td>WHITE</td>\n",
       "      <td>2129-05-21</td>\n",
       "      <td>0</td>\n",
       "      <td>0</td>\n",
       "      <td>M</td>\n",
       "      <td>0</td>\n",
       "      <td>2129</td>\n",
       "      <td>2009</td>\n",
       "    </tr>\n",
       "    <tr>\n",
       "      <th>1</th>\n",
       "      <td>10000032</td>\n",
       "      <td>22595853</td>\n",
       "      <td>WHITE</td>\n",
       "      <td>2180-05-06</td>\n",
       "      <td>0</td>\n",
       "      <td>0</td>\n",
       "      <td>F</td>\n",
       "      <td>52</td>\n",
       "      <td>2180</td>\n",
       "      <td>2014</td>\n",
       "    </tr>\n",
       "    <tr>\n",
       "      <th>2</th>\n",
       "      <td>10000032</td>\n",
       "      <td>22841357</td>\n",
       "      <td>WHITE</td>\n",
       "      <td>2180-06-26</td>\n",
       "      <td>0</td>\n",
       "      <td>0</td>\n",
       "      <td>F</td>\n",
       "      <td>52</td>\n",
       "      <td>2180</td>\n",
       "      <td>2014</td>\n",
       "    </tr>\n",
       "    <tr>\n",
       "      <th>3</th>\n",
       "      <td>10000032</td>\n",
       "      <td>25742920</td>\n",
       "      <td>WHITE</td>\n",
       "      <td>2180-08-05</td>\n",
       "      <td>0</td>\n",
       "      <td>1</td>\n",
       "      <td>F</td>\n",
       "      <td>52</td>\n",
       "      <td>2180</td>\n",
       "      <td>2014</td>\n",
       "    </tr>\n",
       "    <tr>\n",
       "      <th>4</th>\n",
       "      <td>10000032</td>\n",
       "      <td>29079034</td>\n",
       "      <td>WHITE</td>\n",
       "      <td>2180-07-23</td>\n",
       "      <td>0</td>\n",
       "      <td>0</td>\n",
       "      <td>F</td>\n",
       "      <td>52</td>\n",
       "      <td>2180</td>\n",
       "      <td>2014</td>\n",
       "    </tr>\n",
       "  </tbody>\n",
       "</table>\n",
       "</div>"
      ],
      "text/plain": [
       "   subject_id   hadm_id ethnicity   admittime  mortality  readmission gender  \\\n",
       "0    10000019  25058216     WHITE  2129-05-21          0            0      M   \n",
       "1    10000032  22595853     WHITE  2180-05-06          0            0      F   \n",
       "2    10000032  22841357     WHITE  2180-06-26          0            0      F   \n",
       "3    10000032  25742920     WHITE  2180-08-05          0            1      F   \n",
       "4    10000032  29079034     WHITE  2180-07-23          0            0      F   \n",
       "\n",
       "   anchor_age  anchor_year  real_anchor_year_sample  \n",
       "0           0         2129                     2009  \n",
       "1          52         2180                     2014  \n",
       "2          52         2180                     2014  \n",
       "3          52         2180                     2014  \n",
       "4          52         2180                     2014  "
      ]
     },
     "execution_count": 47,
     "metadata": {},
     "output_type": "execute_result"
    }
   ],
   "source": [
    "df = admissions.merge(patients, on='subject_id', how='inner')\n",
    "df.head()"
   ]
  },
  {
   "cell_type": "code",
   "execution_count": 48,
   "metadata": {
    "ExecuteTime": {
     "end_time": "2022-04-24T21:48:22.440577Z",
     "start_time": "2022-04-24T21:48:03.361366Z"
    }
   },
   "outputs": [
    {
     "data": {
      "text/html": [
       "<div>\n",
       "<style scoped>\n",
       "    .dataframe tbody tr th:only-of-type {\n",
       "        vertical-align: middle;\n",
       "    }\n",
       "\n",
       "    .dataframe tbody tr th {\n",
       "        vertical-align: top;\n",
       "    }\n",
       "\n",
       "    .dataframe thead th {\n",
       "        text-align: right;\n",
       "    }\n",
       "</style>\n",
       "<table border=\"1\" class=\"dataframe\">\n",
       "  <thead>\n",
       "    <tr style=\"text-align: right;\">\n",
       "      <th></th>\n",
       "      <th>subject_id</th>\n",
       "      <th>hadm_id</th>\n",
       "      <th>ethnicity</th>\n",
       "      <th>admittime</th>\n",
       "      <th>mortality</th>\n",
       "      <th>readmission</th>\n",
       "      <th>gender</th>\n",
       "      <th>anchor_age</th>\n",
       "      <th>anchor_year</th>\n",
       "      <th>real_anchor_year_sample</th>\n",
       "      <th>real_admit_year</th>\n",
       "      <th>age</th>\n",
       "    </tr>\n",
       "  </thead>\n",
       "  <tbody>\n",
       "    <tr>\n",
       "      <th>0</th>\n",
       "      <td>10000019</td>\n",
       "      <td>25058216</td>\n",
       "      <td>WHITE</td>\n",
       "      <td>2129-05-21</td>\n",
       "      <td>0</td>\n",
       "      <td>0</td>\n",
       "      <td>M</td>\n",
       "      <td>0</td>\n",
       "      <td>2129</td>\n",
       "      <td>2009</td>\n",
       "      <td>2009</td>\n",
       "      <td>0</td>\n",
       "    </tr>\n",
       "    <tr>\n",
       "      <th>1</th>\n",
       "      <td>10000032</td>\n",
       "      <td>22595853</td>\n",
       "      <td>WHITE</td>\n",
       "      <td>2180-05-06</td>\n",
       "      <td>0</td>\n",
       "      <td>0</td>\n",
       "      <td>F</td>\n",
       "      <td>52</td>\n",
       "      <td>2180</td>\n",
       "      <td>2014</td>\n",
       "      <td>2014</td>\n",
       "      <td>52</td>\n",
       "    </tr>\n",
       "    <tr>\n",
       "      <th>2</th>\n",
       "      <td>10000032</td>\n",
       "      <td>22841357</td>\n",
       "      <td>WHITE</td>\n",
       "      <td>2180-06-26</td>\n",
       "      <td>0</td>\n",
       "      <td>0</td>\n",
       "      <td>F</td>\n",
       "      <td>52</td>\n",
       "      <td>2180</td>\n",
       "      <td>2014</td>\n",
       "      <td>2014</td>\n",
       "      <td>52</td>\n",
       "    </tr>\n",
       "    <tr>\n",
       "      <th>3</th>\n",
       "      <td>10000032</td>\n",
       "      <td>25742920</td>\n",
       "      <td>WHITE</td>\n",
       "      <td>2180-08-05</td>\n",
       "      <td>0</td>\n",
       "      <td>1</td>\n",
       "      <td>F</td>\n",
       "      <td>52</td>\n",
       "      <td>2180</td>\n",
       "      <td>2014</td>\n",
       "      <td>2014</td>\n",
       "      <td>52</td>\n",
       "    </tr>\n",
       "    <tr>\n",
       "      <th>4</th>\n",
       "      <td>10000032</td>\n",
       "      <td>29079034</td>\n",
       "      <td>WHITE</td>\n",
       "      <td>2180-07-23</td>\n",
       "      <td>0</td>\n",
       "      <td>0</td>\n",
       "      <td>F</td>\n",
       "      <td>52</td>\n",
       "      <td>2180</td>\n",
       "      <td>2014</td>\n",
       "      <td>2014</td>\n",
       "      <td>52</td>\n",
       "    </tr>\n",
       "  </tbody>\n",
       "</table>\n",
       "</div>"
      ],
      "text/plain": [
       "   subject_id   hadm_id ethnicity   admittime  mortality  readmission gender  \\\n",
       "0    10000019  25058216     WHITE  2129-05-21          0            0      M   \n",
       "1    10000032  22595853     WHITE  2180-05-06          0            0      F   \n",
       "2    10000032  22841357     WHITE  2180-06-26          0            0      F   \n",
       "3    10000032  25742920     WHITE  2180-08-05          0            1      F   \n",
       "4    10000032  29079034     WHITE  2180-07-23          0            0      F   \n",
       "\n",
       "   anchor_age  anchor_year  real_anchor_year_sample  real_admit_year  age  \n",
       "0           0         2129                     2009             2009    0  \n",
       "1          52         2180                     2014             2014   52  \n",
       "2          52         2180                     2014             2014   52  \n",
       "3          52         2180                     2014             2014   52  \n",
       "4          52         2180                     2014             2014   52  "
      ]
     },
     "execution_count": 48,
     "metadata": {},
     "output_type": "execute_result"
    }
   ],
   "source": [
    "df['real_admit_year'] = df.apply(lambda x: x.admittime.year - x.anchor_year + x.real_anchor_year_sample, axis=1)\n",
    "df['age'] = df.apply(lambda x: x.admittime.year - x.anchor_year + x.anchor_age, axis=1)\n",
    "df.head()"
   ]
  },
  {
   "cell_type": "code",
   "execution_count": 49,
   "metadata": {
    "ExecuteTime": {
     "end_time": "2022-04-24T21:48:22.485591Z",
     "start_time": "2022-04-24T21:48:22.442496Z"
    }
   },
   "outputs": [
    {
     "data": {
      "text/html": [
       "<div>\n",
       "<style scoped>\n",
       "    .dataframe tbody tr th:only-of-type {\n",
       "        vertical-align: middle;\n",
       "    }\n",
       "\n",
       "    .dataframe tbody tr th {\n",
       "        vertical-align: top;\n",
       "    }\n",
       "\n",
       "    .dataframe thead th {\n",
       "        text-align: right;\n",
       "    }\n",
       "</style>\n",
       "<table border=\"1\" class=\"dataframe\">\n",
       "  <thead>\n",
       "    <tr style=\"text-align: right;\">\n",
       "      <th></th>\n",
       "      <th>subject_id</th>\n",
       "      <th>hadm_id</th>\n",
       "      <th>admittime</th>\n",
       "      <th>real_admit_year</th>\n",
       "      <th>age</th>\n",
       "      <th>gender</th>\n",
       "      <th>ethnicity</th>\n",
       "      <th>mortality</th>\n",
       "      <th>readmission</th>\n",
       "    </tr>\n",
       "  </thead>\n",
       "  <tbody>\n",
       "    <tr>\n",
       "      <th>0</th>\n",
       "      <td>10000019</td>\n",
       "      <td>25058216</td>\n",
       "      <td>2129-05-21</td>\n",
       "      <td>2009</td>\n",
       "      <td>0</td>\n",
       "      <td>M</td>\n",
       "      <td>WHITE</td>\n",
       "      <td>0</td>\n",
       "      <td>0</td>\n",
       "    </tr>\n",
       "    <tr>\n",
       "      <th>1</th>\n",
       "      <td>10000032</td>\n",
       "      <td>22595853</td>\n",
       "      <td>2180-05-06</td>\n",
       "      <td>2014</td>\n",
       "      <td>52</td>\n",
       "      <td>F</td>\n",
       "      <td>WHITE</td>\n",
       "      <td>0</td>\n",
       "      <td>0</td>\n",
       "    </tr>\n",
       "    <tr>\n",
       "      <th>2</th>\n",
       "      <td>10000032</td>\n",
       "      <td>22841357</td>\n",
       "      <td>2180-06-26</td>\n",
       "      <td>2014</td>\n",
       "      <td>52</td>\n",
       "      <td>F</td>\n",
       "      <td>WHITE</td>\n",
       "      <td>0</td>\n",
       "      <td>0</td>\n",
       "    </tr>\n",
       "    <tr>\n",
       "      <th>3</th>\n",
       "      <td>10000032</td>\n",
       "      <td>25742920</td>\n",
       "      <td>2180-08-05</td>\n",
       "      <td>2014</td>\n",
       "      <td>52</td>\n",
       "      <td>F</td>\n",
       "      <td>WHITE</td>\n",
       "      <td>0</td>\n",
       "      <td>1</td>\n",
       "    </tr>\n",
       "    <tr>\n",
       "      <th>4</th>\n",
       "      <td>10000032</td>\n",
       "      <td>29079034</td>\n",
       "      <td>2180-07-23</td>\n",
       "      <td>2014</td>\n",
       "      <td>52</td>\n",
       "      <td>F</td>\n",
       "      <td>WHITE</td>\n",
       "      <td>0</td>\n",
       "      <td>0</td>\n",
       "    </tr>\n",
       "  </tbody>\n",
       "</table>\n",
       "</div>"
      ],
      "text/plain": [
       "   subject_id   hadm_id   admittime  real_admit_year  age gender ethnicity  \\\n",
       "0    10000019  25058216  2129-05-21             2009    0      M     WHITE   \n",
       "1    10000032  22595853  2180-05-06             2014   52      F     WHITE   \n",
       "2    10000032  22841357  2180-06-26             2014   52      F     WHITE   \n",
       "3    10000032  25742920  2180-08-05             2014   52      F     WHITE   \n",
       "4    10000032  29079034  2180-07-23             2014   52      F     WHITE   \n",
       "\n",
       "   mortality  readmission  \n",
       "0          0            0  \n",
       "1          0            0  \n",
       "2          0            0  \n",
       "3          0            1  \n",
       "4          0            0  "
      ]
     },
     "execution_count": 49,
     "metadata": {},
     "output_type": "execute_result"
    }
   ],
   "source": [
    "df = df[['subject_id', 'hadm_id', \n",
    "         'admittime', 'real_admit_year', \n",
    "         'age', 'gender', 'ethnicity',\n",
    "         'mortality', 'readmission']]\n",
    "df.head()"
   ]
  },
  {
   "cell_type": "code",
   "execution_count": 52,
   "metadata": {
    "ExecuteTime": {
     "end_time": "2022-04-24T21:48:23.034435Z",
     "start_time": "2022-04-24T21:48:22.486971Z"
    }
   },
   "outputs": [],
   "source": [
    "df = df.merge(diagnoses_icd, on=['subject_id', 'hadm_id'], how='inner')\n",
    "df = df.merge(procedures_icd, on=['subject_id', 'hadm_id'], how='inner')\n",
    "df.head()\n",
    "df.to_csv('./data_preprocessed.csv')"
   ]
  },
  {
   "cell_type": "code",
   "execution_count": 47,
   "metadata": {
    "ExecuteTime": {
     "end_time": "2022-04-24T21:48:23.128567Z",
     "start_time": "2022-04-24T21:48:23.036579Z"
    }
   },
   "outputs": [],
   "source": [
    "assert df.isnull().any().any() == False"
   ]
  },
  {
   "cell_type": "markdown",
   "metadata": {},
   "source": [
    "## cohort selection"
   ]
  },
  {
   "cell_type": "code",
   "execution_count": 48,
   "metadata": {
    "ExecuteTime": {
     "end_time": "2022-04-24T21:48:23.133521Z",
     "start_time": "2022-04-24T21:48:23.130205Z"
    }
   },
   "outputs": [
    {
     "data": {
      "text/plain": [
       "(276848, 11)"
      ]
     },
     "execution_count": 48,
     "metadata": {},
     "output_type": "execute_result"
    }
   ],
   "source": [
    "df.shape"
   ]
  },
  {
   "cell_type": "markdown",
   "metadata": {},
   "source": [
    "age"
   ]
  },
  {
   "cell_type": "code",
   "execution_count": 49,
   "metadata": {
    "ExecuteTime": {
     "end_time": "2022-04-24T21:48:23.980369Z",
     "start_time": "2022-04-24T21:48:23.134887Z"
    }
   },
   "outputs": [
    {
     "data": {
      "text/plain": [
       "<AxesSubplot:ylabel='Frequency'>"
      ]
     },
     "execution_count": 49,
     "metadata": {},
     "output_type": "execute_result"
    },
    {
     "data": {
      "image/png": "[encoded data removed]",
      "text/plain": [
       "<Figure size 432x288 with 1 Axes>"
      ]
     },
     "metadata": {
      "needs_background": "light"
     },
     "output_type": "display_data"
    }
   ],
   "source": [
    "df.age.plot.hist(bins=10)"
   ]
  },
  {
   "cell_type": "code",
   "execution_count": 50,
   "metadata": {
    "ExecuteTime": {
     "end_time": "2022-04-24T21:48:24.108854Z",
     "start_time": "2022-04-24T21:48:23.981947Z"
    }
   },
   "outputs": [
    {
     "data": {
      "text/plain": [
       "(239246, 11)"
      ]
     },
     "execution_count": 50,
     "metadata": {},
     "output_type": "execute_result"
    }
   ],
   "source": [
    "df = df[df.age.apply(lambda x: (x >= 18) & (x <= 89))]\n",
    "df.shape"
   ]
  },
  {
   "cell_type": "markdown",
   "metadata": {},
   "source": [
    "## save"
   ]
  },
  {
   "cell_type": "code",
   "execution_count": 51,
   "metadata": {
    "ExecuteTime": {
     "end_time": "2022-04-24T21:48:25.948192Z",
     "start_time": "2022-04-24T21:48:24.110946Z"
    }
   },
   "outputs": [],
   "source": [
    "directory = os.path.join(data_path, 'processed/mimic4/')\n",
    "if not os.path.exists(directory):\n",
    "    os.makedirs(directory)\n",
    "        \n",
    "df.to_csv(os.path.join(data_path, 'processed/mimic4/data.csv'), index=False)"
   ]
  },
  {
   "cell_type": "markdown",
   "metadata": {},
   "source": [
    "## statistics"
   ]
  },
  {
   "cell_type": "code",
   "execution_count": 60,
   "metadata": {
    "ExecuteTime": {
     "end_time": "2022-04-24T21:49:10.259393Z",
     "start_time": "2022-04-24T21:49:10.250106Z"
    }
   },
   "outputs": [
    {
     "name": "stdout",
     "output_type": "stream",
     "text": [
      "0.02918753082601172\n"
     ]
    },
    {
     "data": {
      "text/plain": [
       "0    232263\n",
       "1      6983\n",
       "Name: mortality, dtype: int64"
      ]
     },
     "execution_count": 60,
     "metadata": {},
     "output_type": "execute_result"
    }
   ],
   "source": [
    "print(df.mortality.mean())\n",
    "df.mortality.value_counts()"
   ]
  },
  {
   "cell_type": "code",
   "execution_count": 63,
   "metadata": {
    "ExecuteTime": {
     "end_time": "2022-04-24T21:49:23.510875Z",
     "start_time": "2022-04-24T21:49:23.504063Z"
    },
    "scrolled": true
   },
   "outputs": [
    {
     "name": "stdout",
     "output_type": "stream",
     "text": [
      "0.27998378238298655\n"
     ]
    },
    {
     "data": {
      "text/plain": [
       "0    172261\n",
       "1     66985\n",
       "Name: readmission, dtype: int64"
      ]
     },
     "execution_count": 63,
     "metadata": {},
     "output_type": "execute_result"
    }
   ],
   "source": [
    "print(df.readmission.mean())\n",
    "df.readmission.value_counts()"
   ]
  },
  {
   "cell_type": "code",
   "execution_count": 64,
   "metadata": {
    "ExecuteTime": {
     "end_time": "2022-04-24T21:49:24.129892Z",
     "start_time": "2022-04-24T21:49:23.940537Z"
    }
   },
   "outputs": [
    {
     "data": {
      "text/plain": [
       "<AxesSubplot:>"
      ]
     },
     "execution_count": 64,
     "metadata": {},
     "output_type": "execute_result"
    },
    {
     "data": {
      "image/png": "[encoded data removed]",
      "text/plain": [
       "<Figure size 432x288 with 1 Axes>"
      ]
     },
     "metadata": {
      "needs_background": "light"
     },
     "output_type": "display_data"
    }
   ],
   "source": [
    "df.real_admit_year.value_counts().sort_index().plot(kind='bar')"
   ]
  },
  {
   "cell_type": "code",
   "execution_count": 71,
   "metadata": {
    "ExecuteTime": {
     "end_time": "2022-04-24T21:51:44.175850Z",
     "start_time": "2022-04-24T21:51:44.133196Z"
    }
   },
   "outputs": [
    {
     "data": {
      "text/html": [
       "<div>\n",
       "<style scoped>\n",
       "    .dataframe tbody tr th:only-of-type {\n",
       "        vertical-align: middle;\n",
       "    }\n",
       "\n",
       "    .dataframe tbody tr th {\n",
       "        vertical-align: top;\n",
       "    }\n",
       "\n",
       "    .dataframe thead th {\n",
       "        text-align: right;\n",
       "    }\n",
       "</style>\n",
       "<table border=\"1\" class=\"dataframe\">\n",
       "  <thead>\n",
       "    <tr style=\"text-align: right;\">\n",
       "      <th></th>\n",
       "      <th>total_admissions</th>\n",
       "      <th>readmission_date</th>\n",
       "      <th>mortality_date</th>\n",
       "    </tr>\n",
       "    <tr>\n",
       "      <th>real_admit_year</th>\n",
       "      <th></th>\n",
       "      <th></th>\n",
       "      <th></th>\n",
       "    </tr>\n",
       "  </thead>\n",
       "  <tbody>\n",
       "    <tr>\n",
       "      <th>2005</th>\n",
       "      <td>5</td>\n",
       "      <td>0.000000</td>\n",
       "      <td>0.000000</td>\n",
       "    </tr>\n",
       "    <tr>\n",
       "      <th>2006</th>\n",
       "      <td>4</td>\n",
       "      <td>0.000000</td>\n",
       "      <td>0.000000</td>\n",
       "    </tr>\n",
       "    <tr>\n",
       "      <th>2007</th>\n",
       "      <td>17</td>\n",
       "      <td>0.000000</td>\n",
       "      <td>0.000000</td>\n",
       "    </tr>\n",
       "    <tr>\n",
       "      <th>2008</th>\n",
       "      <td>17052</td>\n",
       "      <td>0.118696</td>\n",
       "      <td>0.023223</td>\n",
       "    </tr>\n",
       "    <tr>\n",
       "      <th>2009</th>\n",
       "      <td>22484</td>\n",
       "      <td>0.168209</td>\n",
       "      <td>0.022371</td>\n",
       "    </tr>\n",
       "    <tr>\n",
       "      <th>2010</th>\n",
       "      <td>25261</td>\n",
       "      <td>0.199715</td>\n",
       "      <td>0.022881</td>\n",
       "    </tr>\n",
       "    <tr>\n",
       "      <th>2011</th>\n",
       "      <td>20763</td>\n",
       "      <td>0.261427</td>\n",
       "      <td>0.027501</td>\n",
       "    </tr>\n",
       "    <tr>\n",
       "      <th>2012</th>\n",
       "      <td>20334</td>\n",
       "      <td>0.277024</td>\n",
       "      <td>0.026950</td>\n",
       "    </tr>\n",
       "    <tr>\n",
       "      <th>2013</th>\n",
       "      <td>19976</td>\n",
       "      <td>0.280687</td>\n",
       "      <td>0.026982</td>\n",
       "    </tr>\n",
       "    <tr>\n",
       "      <th>2014</th>\n",
       "      <td>19680</td>\n",
       "      <td>0.304014</td>\n",
       "      <td>0.030183</td>\n",
       "    </tr>\n",
       "    <tr>\n",
       "      <th>2015</th>\n",
       "      <td>19386</td>\n",
       "      <td>0.314970</td>\n",
       "      <td>0.032601</td>\n",
       "    </tr>\n",
       "    <tr>\n",
       "      <th>2016</th>\n",
       "      <td>19477</td>\n",
       "      <td>0.327309</td>\n",
       "      <td>0.030806</td>\n",
       "    </tr>\n",
       "    <tr>\n",
       "      <th>2017</th>\n",
       "      <td>17763</td>\n",
       "      <td>0.360074</td>\n",
       "      <td>0.037043</td>\n",
       "    </tr>\n",
       "    <tr>\n",
       "      <th>2018</th>\n",
       "      <td>16292</td>\n",
       "      <td>0.358458</td>\n",
       "      <td>0.037810</td>\n",
       "    </tr>\n",
       "    <tr>\n",
       "      <th>2019</th>\n",
       "      <td>14757</td>\n",
       "      <td>0.345328</td>\n",
       "      <td>0.038558</td>\n",
       "    </tr>\n",
       "    <tr>\n",
       "      <th>2020</th>\n",
       "      <td>4336</td>\n",
       "      <td>0.595480</td>\n",
       "      <td>0.032057</td>\n",
       "    </tr>\n",
       "    <tr>\n",
       "      <th>2021</th>\n",
       "      <td>1442</td>\n",
       "      <td>0.650485</td>\n",
       "      <td>0.024965</td>\n",
       "    </tr>\n",
       "    <tr>\n",
       "      <th>2022</th>\n",
       "      <td>217</td>\n",
       "      <td>0.691244</td>\n",
       "      <td>0.018433</td>\n",
       "    </tr>\n",
       "  </tbody>\n",
       "</table>\n",
       "</div>"
      ],
      "text/plain": [
       "                 total_admissions  readmission_date  mortality_date\n",
       "real_admit_year                                                    \n",
       "2005                            5          0.000000        0.000000\n",
       "2006                            4          0.000000        0.000000\n",
       "2007                           17          0.000000        0.000000\n",
       "2008                        17052          0.118696        0.023223\n",
       "2009                        22484          0.168209        0.022371\n",
       "2010                        25261          0.199715        0.022881\n",
       "2011                        20763          0.261427        0.027501\n",
       "2012                        20334          0.277024        0.026950\n",
       "2013                        19976          0.280687        0.026982\n",
       "2014                        19680          0.304014        0.030183\n",
       "2015                        19386          0.314970        0.032601\n",
       "2016                        19477          0.327309        0.030806\n",
       "2017                        17763          0.360074        0.037043\n",
       "2018                        16292          0.358458        0.037810\n",
       "2019                        14757          0.345328        0.038558\n",
       "2020                         4336          0.595480        0.032057\n",
       "2021                         1442          0.650485        0.024965\n",
       "2022                          217          0.691244        0.018433"
      ]
     },
     "execution_count": 71,
     "metadata": {},
     "output_type": "execute_result"
    }
   ],
   "source": [
    "df.groupby('real_admit_year').agg(total_admissions=('hadm_id', 'nunique'), \n",
    "                                  readmission_date=('readmission', 'mean'),\n",
    "                                  mortality_date=('mortality', 'mean'))"
   ]
  },
  {
   "cell_type": "code",
   "execution_count": null,
   "metadata": {},
   "outputs": [],
   "source": []
  }
 ],
 "metadata": {
  "interpreter": {
   "hash": "b3ba2566441a7c06988d0923437866b63cedc61552a5af99d1f4fb67d367b25f"
  },
  "kernelspec": {
   "display_name": "Python 3 (ipykernel)",
   "language": "python",
   "name": "python3"
  },
  "language_info": {
   "codemirror_mode": {
    "name": "ipython",
    "version": 3
   },
   "file_extension": ".py",
   "mimetype": "text/x-python",
   "name": "python",
   "nbconvert_exporter": "python",
   "pygments_lexer": "ipython3",
   "version": "3.9.7"
  },
  "toc": {
   "base_numbering": 1,
   "nav_menu": {},
   "number_sections": false,
   "sideBar": true,
   "skip_h1_title": true,
   "title_cell": "Table of Contents",
   "title_sidebar": "Contents",
   "toc_cell": false,
   "toc_position": {
    "height": "calc(100% - 180px)",
    "left": "10px",
    "top": "150px",
    "width": "202px"
   },
   "toc_section_display": true,
   "toc_window_display": true
  }
 },
 "nbformat": 4,
 "nbformat_minor": 4
}
