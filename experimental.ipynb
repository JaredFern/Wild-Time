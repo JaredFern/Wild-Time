{
 "cells": [
  {
   "cell_type": "code",
   "execution_count": 7,
   "metadata": {
    "tags": []
   },
   "outputs": [],
   "source": [
    "from wildtime import baseline_trainer, dataloader\n",
    "from wildtime.configs.eval_fix import configs_mimic_mortality, configs_mimic_readmission\n",
    "\n",
    "import argparse\n",
    "import resource\n",
    "rlimit = resource.getrlimit(resource.RLIMIT_NOFILE)\n",
    "resource.setrlimit(resource.RLIMIT_NOFILE, (4096, rlimit[1]))\n",
    "\n",
    "import torch.multiprocessing\n",
    "torch.multiprocessing.set_sharing_strategy('file_system')"
   ]
  },
  {
   "cell_type": "code",
   "execution_count": 6,
   "metadata": {
    "tags": []
   },
   "outputs": [
    {
     "name": "stdout",
     "output_type": "stream",
     "text": [
      "Year 2008 loaded\n",
      "Year 2011 loaded\n",
      "Year 2014 loaded\n",
      "Year 2017 loaded\n",
      "Vocab len: 3410\n",
      "TransformerBlock added with hid-128, head-2, in_hid-256, drop-0.5\n",
      "TransformerBlock added with hid-128, head-2, in_hid-256, drop-0.5\n",
      "==========================================================================================\n",
      "Running Eval-Fix...\n",
      "\n",
      "> \u001b[0;32m/home/jaredfer/Projects/Year3/Wild-Time/wildtime/methods/base_trainer.py\u001b[0m(160)\u001b[0;36mtrain_offline\u001b[0;34m()\u001b[0m\n",
      "\u001b[0;32m    159 \u001b[0;31m                    \u001b[0;32mimport\u001b[0m \u001b[0mipdb\u001b[0m\u001b[0;34m;\u001b[0m \u001b[0mipdb\u001b[0m\u001b[0;34m.\u001b[0m\u001b[0mset_trace\u001b[0m\u001b[0;34m(\u001b[0m\u001b[0;34m)\u001b[0m\u001b[0;34m\u001b[0m\u001b[0;34m\u001b[0m\u001b[0m\n",
      "\u001b[0m\u001b[0;32m--> 160 \u001b[0;31m                    \u001b[0mself\u001b[0m\u001b[0;34m.\u001b[0m\u001b[0mtrain_step\u001b[0m\u001b[0;34m(\u001b[0m\u001b[0mtrain_id_dataloader\u001b[0m\u001b[0;34m,\u001b[0m \u001b[0mself\u001b[0m\u001b[0;34m.\u001b[0m\u001b[0margs\u001b[0m\u001b[0;34m.\u001b[0m\u001b[0moffline_steps\u001b[0m\u001b[0;34m)\u001b[0m\u001b[0;34m\u001b[0m\u001b[0;34m\u001b[0m\u001b[0m\n",
      "\u001b[0m\u001b[0;32m    161 \u001b[0;31m                    \u001b[0mself\u001b[0m\u001b[0;34m.\u001b[0m\u001b[0msave_model\u001b[0m\u001b[0;34m(\u001b[0m\u001b[0mtimestamp\u001b[0m\u001b[0;34m)\u001b[0m\u001b[0;34m\u001b[0m\u001b[0;34m\u001b[0m\u001b[0m\n",
      "\u001b[0m\n"
     ]
    },
    {
     "name": "stdout",
     "output_type": "stream",
     "text": [
      "ipdb>  c\n"
     ]
    },
    {
     "name": "stderr",
     "output_type": "stream",
     "text": [
      "\n",
      "  0%|          | 0/100 [00:00<?, ?it/s]\u001b[A"
     ]
    },
    {
     "name": "stdout",
     "output_type": "stream",
     "text": [
      "> \u001b[0;32m/home/jaredfer/Projects/Year3/Wild-Time/wildtime/methods/base_trainer.py\u001b[0m(87)\u001b[0;36mtrain_step\u001b[0;34m()\u001b[0m\n",
      "\u001b[0;32m     86 \u001b[0;31m        \u001b[0;32mimport\u001b[0m \u001b[0mipdb\u001b[0m\u001b[0;34m;\u001b[0m \u001b[0mipdb\u001b[0m\u001b[0;34m.\u001b[0m\u001b[0mset_trace\u001b[0m\u001b[0;34m(\u001b[0m\u001b[0;34m)\u001b[0m\u001b[0;34m\u001b[0m\u001b[0;34m\u001b[0m\u001b[0m\n",
      "\u001b[0m\u001b[0;32m---> 87 \u001b[0;31m        \u001b[0;32mfor\u001b[0m \u001b[0mstep\u001b[0m\u001b[0;34m,\u001b[0m \u001b[0;34m(\u001b[0m\u001b[0mx\u001b[0m\u001b[0;34m,\u001b[0m \u001b[0my\u001b[0m\u001b[0;34m)\u001b[0m \u001b[0;32min\u001b[0m \u001b[0menumerate\u001b[0m\u001b[0;34m(\u001b[0m\u001b[0mdataloader\u001b[0m\u001b[0;34m)\u001b[0m\u001b[0;34m:\u001b[0m\u001b[0;34m\u001b[0m\u001b[0;34m\u001b[0m\u001b[0m\n",
      "\u001b[0m\u001b[0;32m     88 \u001b[0;31m            \u001b[0mx\u001b[0m\u001b[0;34m,\u001b[0m \u001b[0my\u001b[0m \u001b[0;34m=\u001b[0m \u001b[0mprepare_data\u001b[0m\u001b[0;34m(\u001b[0m\u001b[0mx\u001b[0m\u001b[0;34m,\u001b[0m \u001b[0my\u001b[0m\u001b[0;34m,\u001b[0m \u001b[0mstr\u001b[0m\u001b[0;34m(\u001b[0m\u001b[0mself\u001b[0m\u001b[0;34m.\u001b[0m\u001b[0mtrain_dataset\u001b[0m\u001b[0;34m)\u001b[0m\u001b[0;34m)\u001b[0m\u001b[0;34m\u001b[0m\u001b[0;34m\u001b[0m\u001b[0m\n",
      "\u001b[0m\n"
     ]
    },
    {
     "name": "stdout",
     "output_type": "stream",
     "text": [
      "ipdb>  c\n"
     ]
    },
    {
     "name": "stderr",
     "output_type": "stream",
     "text": [
      "\n",
      "  1%|          | 1/100 [00:00<01:24,  1.17it/s]\u001b[A\n",
      "  3%|▎         | 3/100 [00:01<00:27,  3.55it/s]\u001b[A"
     ]
    },
    {
     "name": "stdout",
     "output_type": "stream",
     "text": [
      "Train Loss at step 0: 1.1436793804168701\n"
     ]
    },
    {
     "name": "stderr",
     "output_type": "stream",
     "text": [
      "\n",
      "  6%|▌         | 6/100 [00:01<00:12,  7.29it/s]\u001b[A\n",
      " 10%|█         | 10/100 [00:01<00:06, 12.99it/s]\u001b[A\n",
      " 13%|█▎        | 13/100 [00:01<00:05, 15.07it/s]\u001b[A\n",
      " 16%|█▌        | 16/100 [00:01<00:04, 17.36it/s]\u001b[A\n",
      " 19%|█▉        | 19/100 [00:01<00:04, 17.48it/s]\u001b[A\n",
      " 22%|██▏       | 22/100 [00:01<00:04, 19.00it/s]\u001b[A\n",
      " 26%|██▌       | 26/100 [00:01<00:03, 23.69it/s]\u001b[A\n",
      " 29%|██▉       | 29/100 [00:02<00:02, 24.23it/s]\u001b[A\n",
      " 33%|███▎      | 33/100 [00:02<00:02, 26.74it/s]\u001b[A\n",
      " 36%|███▌      | 36/100 [00:03<00:10,  5.88it/s]\u001b[A\n",
      " 40%|████      | 40/100 [00:03<00:07,  8.29it/s]\u001b[A\n",
      " 43%|████▎     | 43/100 [00:03<00:05, 10.06it/s]\u001b[A\n",
      " 47%|████▋     | 47/100 [00:04<00:03, 13.35it/s]\u001b[A\n",
      " 51%|█████     | 51/100 [00:04<00:03, 15.86it/s]\u001b[A\n",
      " 54%|█████▍    | 54/100 [00:04<00:02, 17.80it/s]\u001b[A"
     ]
    },
    {
     "name": "stdout",
     "output_type": "stream",
     "text": [
      "Train Loss at step 50: 0.7630324363708496\n"
     ]
    },
    {
     "name": "stderr",
     "output_type": "stream",
     "text": [
      "\n",
      " 59%|█████▉    | 59/100 [00:04<00:01, 21.47it/s]\u001b[A\n",
      " 63%|██████▎   | 63/100 [00:04<00:01, 24.88it/s]\u001b[A\n",
      " 67%|██████▋   | 67/100 [00:04<00:01, 26.12it/s]\u001b[A\n",
      " 71%|███████   | 71/100 [00:04<00:01, 28.76it/s]\u001b[A\n",
      " 75%|███████▌  | 75/100 [00:04<00:00, 29.09it/s]\u001b[A\n",
      " 79%|███████▉  | 79/100 [00:05<00:00, 31.09it/s]\u001b[A\n",
      " 83%|████████▎ | 83/100 [00:05<00:00, 30.29it/s]\u001b[A\n",
      " 87%|████████▋ | 87/100 [00:05<00:00, 32.25it/s]\u001b[A\n",
      " 91%|█████████ | 91/100 [00:05<00:00, 31.23it/s]\u001b[A\n",
      " 95%|█████████▌| 95/100 [00:05<00:00, 32.72it/s]\u001b[A\n",
      " 99%|█████████▉| 99/100 [00:05<00:00, 31.84it/s]\u001b[A"
     ]
    },
    {
     "name": "stdout",
     "output_type": "stream",
     "text": [
      "Train Loss at step 100: 0.7188881039619446\n",
      "Saving model at timestamp 2011 to path ./checkpoints/mimic_readmission_ERM-train_update_iter=3000-lr=0.0005-mini_batch_size=128-seed=1-eval_fix_time=2011...\n",
      "\n",
      "\n",
      "=================================== Results (Eval-Fix) ===================================\n",
      "Metric: accuracy\n",
      "\n",
      "ID accuracy: \t0.5926156551042087\n",
      "\n",
      "> \u001b[0;32m/home/jaredfer/Projects/Year3/Wild-Time/wildtime/methods/base_trainer.py\u001b[0m(325)\u001b[0;36mevaluate_offline\u001b[0;34m()\u001b[0m\n",
      "\u001b[0;32m    324 \u001b[0;31m                \u001b[0;32mimport\u001b[0m \u001b[0mipdb\u001b[0m\u001b[0;34m;\u001b[0m \u001b[0mipdb\u001b[0m\u001b[0;34m.\u001b[0m\u001b[0mset_trace\u001b[0m\u001b[0;34m(\u001b[0m\u001b[0;34m)\u001b[0m\u001b[0;34m\u001b[0m\u001b[0;34m\u001b[0m\u001b[0m\n",
      "\u001b[0m\u001b[0;32m--> 325 \u001b[0;31m                \u001b[0macc\u001b[0m \u001b[0;34m=\u001b[0m \u001b[0mself\u001b[0m\u001b[0;34m.\u001b[0m\u001b[0mnetwork_evaluation\u001b[0m\u001b[0;34m(\u001b[0m\u001b[0mtest_ood_dataloader\u001b[0m\u001b[0;34m)\u001b[0m\u001b[0;34m\u001b[0m\u001b[0;34m\u001b[0m\u001b[0m\n",
      "\u001b[0m\u001b[0;32m    326 \u001b[0;31m                \u001b[0mprint\u001b[0m\u001b[0;34m(\u001b[0m\u001b[0;34mf'OOD timestamp = {timestamp}: \\t {self.eval_metric} is {acc}'\u001b[0m\u001b[0;34m)\u001b[0m\u001b[0;34m\u001b[0m\u001b[0;34m\u001b[0m\u001b[0m\n",
      "\u001b[0m\n"
     ]
    },
    {
     "name": "stderr",
     "output_type": "stream",
     "text": [
      "\n",
      "101it [00:17, 31.84it/s]                        \u001b[A"
     ]
    },
    {
     "name": "stdout",
     "output_type": "stream",
     "text": [
      "ipdb>  c\n"
     ]
    },
    {
     "name": "stderr",
     "output_type": "stream",
     "text": [
      "101it [01:28,  1.14it/s]\n"
     ]
    },
    {
     "name": "stdout",
     "output_type": "stream",
     "text": [
      "OOD timestamp = 2014: \t accuracy is 0.5225824138167363\n",
      "> \u001b[0;32m/home/jaredfer/Projects/Year3/Wild-Time/wildtime/methods/base_trainer.py\u001b[0m(324)\u001b[0;36mevaluate_offline\u001b[0;34m()\u001b[0m\n",
      "\u001b[0;32m    323 \u001b[0;31m                                                     num_workers=self.num_workers, collate_fn=self.eval_collate_fn)\n",
      "\u001b[0m\u001b[0;32m--> 324 \u001b[0;31m                \u001b[0;32mimport\u001b[0m \u001b[0mipdb\u001b[0m\u001b[0;34m;\u001b[0m \u001b[0mipdb\u001b[0m\u001b[0;34m.\u001b[0m\u001b[0mset_trace\u001b[0m\u001b[0;34m(\u001b[0m\u001b[0;34m)\u001b[0m\u001b[0;34m\u001b[0m\u001b[0;34m\u001b[0m\u001b[0m\n",
      "\u001b[0m\u001b[0;32m    325 \u001b[0;31m                \u001b[0macc\u001b[0m \u001b[0;34m=\u001b[0m \u001b[0mself\u001b[0m\u001b[0;34m.\u001b[0m\u001b[0mnetwork_evaluation\u001b[0m\u001b[0;34m(\u001b[0m\u001b[0mtest_ood_dataloader\u001b[0m\u001b[0;34m)\u001b[0m\u001b[0;34m\u001b[0m\u001b[0;34m\u001b[0m\u001b[0m\n",
      "\u001b[0m\n"
     ]
    },
    {
     "name": "stdout",
     "output_type": "stream",
     "text": [
      "ipdb>  l\n"
     ]
    },
    {
     "name": "stdout",
     "output_type": "stream",
     "text": [
      "\u001b[1;32m    319 \u001b[0m                \u001b[0mself\u001b[0m\u001b[0;34m.\u001b[0m\u001b[0meval_dataset\u001b[0m\u001b[0;34m.\u001b[0m\u001b[0mmode\u001b[0m \u001b[0;34m=\u001b[0m \u001b[0;36m2\u001b[0m\u001b[0;34m\u001b[0m\u001b[0;34m\u001b[0m\u001b[0m\n",
      "\u001b[1;32m    320 \u001b[0m                \u001b[0mself\u001b[0m\u001b[0;34m.\u001b[0m\u001b[0meval_dataset\u001b[0m\u001b[0;34m.\u001b[0m\u001b[0mupdate_current_timestamp\u001b[0m\u001b[0;34m(\u001b[0m\u001b[0mtimestamp\u001b[0m\u001b[0;34m)\u001b[0m\u001b[0;34m\u001b[0m\u001b[0;34m\u001b[0m\u001b[0m\n",
      "\u001b[1;32m    321 \u001b[0m                test_ood_dataloader = FastDataLoader(dataset=self.eval_dataset,\n",
      "\u001b[1;32m    322 \u001b[0m                                                     \u001b[0mbatch_size\u001b[0m\u001b[0;34m=\u001b[0m\u001b[0mself\u001b[0m\u001b[0;34m.\u001b[0m\u001b[0meval_batch_size\u001b[0m\u001b[0;34m,\u001b[0m\u001b[0;34m\u001b[0m\u001b[0;34m\u001b[0m\u001b[0m\n",
      "\u001b[1;32m    323 \u001b[0m                                                     num_workers=self.num_workers, collate_fn=self.eval_collate_fn)\n",
      "\u001b[0;32m--> 324 \u001b[0;31m                \u001b[0;32mimport\u001b[0m \u001b[0mipdb\u001b[0m\u001b[0;34m;\u001b[0m \u001b[0mipdb\u001b[0m\u001b[0;34m.\u001b[0m\u001b[0mset_trace\u001b[0m\u001b[0;34m(\u001b[0m\u001b[0;34m)\u001b[0m\u001b[0;34m\u001b[0m\u001b[0;34m\u001b[0m\u001b[0m\n",
      "\u001b[0m\u001b[1;32m    325 \u001b[0m                \u001b[0macc\u001b[0m \u001b[0;34m=\u001b[0m \u001b[0mself\u001b[0m\u001b[0;34m.\u001b[0m\u001b[0mnetwork_evaluation\u001b[0m\u001b[0;34m(\u001b[0m\u001b[0mtest_ood_dataloader\u001b[0m\u001b[0;34m)\u001b[0m\u001b[0;34m\u001b[0m\u001b[0;34m\u001b[0m\u001b[0m\n",
      "\u001b[1;32m    326 \u001b[0m                \u001b[0mprint\u001b[0m\u001b[0;34m(\u001b[0m\u001b[0;34mf'OOD timestamp = {timestamp}: \\t {self.eval_metric} is {acc}'\u001b[0m\u001b[0;34m)\u001b[0m\u001b[0;34m\u001b[0m\u001b[0;34m\u001b[0m\u001b[0m\n",
      "\u001b[1;32m    327 \u001b[0m                \u001b[0mmetrics\u001b[0m\u001b[0;34m.\u001b[0m\u001b[0mappend\u001b[0m\u001b[0;34m(\u001b[0m\u001b[0macc\u001b[0m\u001b[0;34m)\u001b[0m\u001b[0;34m\u001b[0m\u001b[0;34m\u001b[0m\u001b[0m\n",
      "\u001b[1;32m    328 \u001b[0m        print(f'\\nOOD Average Metric: \\t{np.mean(metrics)}'\n",
      "\u001b[1;32m    329 \u001b[0m              \u001b[0;34mf'\\nOOD Worst Metric: \\t{np.min(metrics)}'\u001b[0m\u001b[0;34m\u001b[0m\u001b[0;34m\u001b[0m\u001b[0m\n",
      "\n"
     ]
    },
    {
     "name": "stdout",
     "output_type": "stream",
     "text": [
      "ipdb>  self.eval_dataset\n"
     ]
    },
    {
     "name": "stdout",
     "output_type": "stream",
     "text": [
      "<wildtime.data.mimic.MIMIC object at 0x7fc6a94824c0>\n"
     ]
    },
    {
     "name": "stdout",
     "output_type": "stream",
     "text": [
      "ipdb>  self.eval_dataset.current_time\n"
     ]
    },
    {
     "name": "stdout",
     "output_type": "stream",
     "text": [
      "2017\n"
     ]
    },
    {
     "name": "stdout",
     "output_type": "stream",
     "text": [
      "ipdb>  len(self.eval_dataset)\n"
     ]
    },
    {
     "name": "stdout",
     "output_type": "stream",
     "text": [
      "43729\n"
     ]
    },
    {
     "name": "stdout",
     "output_type": "stream",
     "text": [
      "ipdb>  c\n"
     ]
    },
    {
     "name": "stdout",
     "output_type": "stream",
     "text": [
      "OOD timestamp = 2017: \t accuracy is 0.5282992979487297\n",
      "\n",
      "OOD Average Metric: \t0.525440855882733\n",
      "OOD Worst Metric: \t0.5225824138167363\n",
      "All OOD Metrics: \t[0.5225824138167363, 0.5282992979487297]\n",
      "\n",
      "Runtime: 186.08\n",
      "\n"
     ]
    }
   ],
   "source": [
    "experimental_params = {\n",
    "    'device': 0,\n",
    "    'random_seed': 1,\n",
    "    'num_workers': 8,\n",
    "    'mini_batch_size': 128,\n",
    "    'eval_batch_size': 512,\n",
    "    'ssl_finetune_iter': 1500,\n",
    "    'linear_probe_iter': 0,\n",
    "    'train_update_iter': 3000,\n",
    "    'offline_steps': 100,\n",
    "    # 'online_steps': 500,\n",
    "\n",
    "    'eval_fix': True,\n",
    "    'eval_warmstart_finetune': False,\n",
    "    # 'eval_fixed_timesteps': [9,10],\n",
    "    'eval_features': False,\n",
    "    'difficulty': False,\n",
    "    'linear_probe': False,\n",
    "    'online': False,\n",
    "    # 'split_time': 10,\n",
    "    # 'eval_next_timestamps': 6,\n",
    "    'eval_all_timestamps': False,\n",
    "\n",
    "    'load_model': False,\n",
    "    'torch_compile': False,\n",
    "    'time_conditioned': False,\n",
    "    'swa_ewa': True,\n",
    "    'swa_ewa_lambda': 0.5,\n",
    "    'swa_steps': None,\n",
    "\n",
    "    # Feature Analysis Params\n",
    "    'feat_threshold': 0.1,\n",
    "    'feat_num_samples': 100,\n",
    "    'feat_num_components': 50,\n",
    "    'feat_split': 'test',\n",
    "\n",
    "    'data_dir': '/compute/tir-1-11/jaredfer/wilds/data/mimiciv',\n",
    "    'log_dir': './checkpoints',\n",
    "    'checkpoint_path': None,\n",
    "    'results_dir': './results'\n",
    "}\n",
    "\n",
    "config = {**configs_mimic_readmission.configs_mimic_erm, **experimental_params}\n",
    "\n",
    "experimental_config = argparse.Namespace(**config)\n",
    "\n",
    "baseline_trainer.train(experimental_config)\n",
    "# if configs.train_model:\n",
    "#     baseline_trainer.train(experimental_config)\n",
    "# elif configs.loss_analysis:\n",
    "#     pass\n",
    "# elif configs.feature_analysis:\n",
    "#     pass\n"
   ]
  }
 ],
 "metadata": {
  "kernelspec": {
   "display_name": "wild-time",
   "language": "python",
   "name": "python3"
  },
  "language_info": {
   "codemirror_mode": {
    "name": "ipython",
    "version": 3
   },
   "file_extension": ".py",
   "mimetype": "text/x-python",
   "name": "python",
   "nbconvert_exporter": "python",
   "pygments_lexer": "ipython3",
   "version": "3.8.16"
  }
 },
 "nbformat": 4,
 "nbformat_minor": 4
}
