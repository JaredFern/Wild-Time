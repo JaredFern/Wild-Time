{
 "cells": [
  {
   "cell_type": "code",
   "execution_count": 7,
   "metadata": {
    "tags": []
   },
   "outputs": [],
   "source": [
    "import argparse\n",
    "import os\n",
    "import numpy as np\n",
    "import pickle\n",
    "import matplotlib.pyplot as plt\n",
    "from importlib import reload\n",
    "\n",
    "from analysis import forgetting\n",
    "\n",
    "from wildtime import baseline_trainer, dataloader\n",
    "from wildtime.configs.eval_fix import (\n",
    "    configs_mimic_mortality, configs_mimic_readmission, \n",
    "    configs_fmow, configs_arxiv, configs_huffpost, configs_yearbook\n",
    ")"
   ]
  },
  {
   "cell_type": "code",
   "execution_count": 2,
   "metadata": {},
   "outputs": [
    {
     "data": {
      "text/plain": [
       "<module 'analysis.forgetting' from '/home/jaredfer/Projects/distshift/Wild-Time/analysis/forgetting.py'>"
      ]
     },
     "execution_count": 2,
     "metadata": {},
     "output_type": "execute_result"
    }
   ],
   "source": [
    "reload(forgetting)"
   ]
  },
  {
   "cell_type": "code",
   "execution_count": 2,
   "metadata": {},
   "outputs": [],
   "source": [
    "DATA_DIR=\"/data/tir/projects/tir6/strubell/jaredfer/projects/wild-time/results\"\n",
    "\n",
    "EXP_PATHS =  {\n",
    "    ('fmow', 'cs'): \"0504_fmow_swa_coldstart_csaw\",\n",
    "    ('fmow', 'ws'): \"0504_fmow_swa_csaw_lambda0.75\", \n",
    "    ('huffpost', 'cs'): \"0504_huffpost_swa_coldstart_csaw\",\n",
    "    ('huffpost', 'ws'): \"0504_huffpost_swa_warmstart_csaw_2\",\n",
    "    ('arxiv', 'cs'): \"0509_arxiv_swa_coldstart_csaw_seed_1\" ,\n",
    "    ('arxiv', 'ws'): \"0509_arxiv_swa_warmstart_csaw_seed_1\",\n",
    "    ('yearbook', 'cs'): \"0504_yearbook_swa_coldstart_csaw\",\n",
    "    ('yearbook', 'ws'): \"0504_yearbook_swa_csaw_lambda0.75\",\n",
    "}\n",
    "\n",
    "OPTIMAL_DECAY = {\n",
    "    ('fmow', 'cs'): 0.90,\n",
    "    ('fmow', 'ws'): 0.75, \n",
    "    ('huffpost', 'cs'): 0.85,\n",
    "    ('huffpost', 'ws'): 0.45,\n",
    "    ('arxiv', 'cs'): 0.75,\n",
    "    ('arxiv', 'ws'): 0.50,\n",
    "    ('yearbook', 'cs'): 0.90,\n",
    "    ('yearbook', 'ws'): 0.75,\n",
    "}"
   ]
  },
  {
   "cell_type": "code",
   "execution_count": 70,
   "metadata": {},
   "outputs": [],
   "source": [
    "EXP_PARAMS = {\n",
    "    'dataset': \"fmow\",\n",
    "    'method': 'swa',\n",
    "    'eval_batch_size': 2048,\n",
    "    'swa_ewa_lambda': 0.90,\n",
    "    'exp_path': 'seed_2',\n",
    "\n",
    "    'device': 0,\n",
    "    'random_seed': 1,\n",
    "    'num_workers': 0,\n",
    "\n",
    "    'eval_fix': True,\n",
    "    'eval_warmstart_finetune': False,\n",
    "    'eval_features': False,\n",
    "    'linear_probe': False,\n",
    "    'online': False,\n",
    "    'offline_steps': 1000,\n",
    "    'online_steps': 1000,\n",
    "\n",
    "    'eval_all_timestamps': False,\n",
    "\n",
    "    'load_model': False,\n",
    "    'torch_compile': False,\n",
    "    'sam': False,\n",
    "    'swa_ewa': True,\n",
    "    'swa_steps': None,\n",
    "    'swa_load_from_checkpoint': False,\n",
    "\n",
    "    'data_dir': '/data/tir/projects/tir6/strubell/data/wilds/data',\n",
    "    'log_dir': '/data/tir/projects/tir6/strubell/jaredfer/projects/wild-time/results',\n",
    "    'results_dir': '/data/tir/projects/tir6/strubell/jaredfer/projects/wild-time/results/icml/fmow/ewc',\n",
    "    'checkpoint_path': ''\n",
    "\n",
    "    # 'checkpoint_path': '/data/tir/projects/tir6/strubell/jaredfer/projects/wild-time/results/0509_arxiv_swa_warmstart_csaw_seed_1/time_2016'\n",
    "}\n",
    "\n",
    "if EXP_PARAMS['dataset'] == 'fmow':\n",
    "    config =  {**configs_fmow.configs_fmow_erm, **EXP_PARAMS}\n",
    "    eval_checkpoints = [f\"time_{i}.pth\" for i in range(11)]\n",
    "if EXP_PARAMS['dataset'] == 'huffpost':\n",
    "    config =  {**configs_huffpost.configs_huffpost_erm, **EXP_PARAMS}\n",
    "    eval_checkpoints = [f\"time_{i}.pth\" for i in range(2012, 2016)]\n",
    "if EXP_PARAMS['dataset'] == 'arxiv':\n",
    "    eval_checkpoints = [f\"time_{i}.pth\" for i in range(2007, 2016)]\n",
    "    config = {**configs_arxiv.configs_arxiv_erm, **EXP_PARAMS}\n",
    "if EXP_PARAMS['dataset'] == 'yearbook':\n",
    "    eval_checkpoints = [f\"time_{i}.pth\" for i in range(1930, 1970)]\n",
    "    config = {**configs_yearbook.configs_yearbook_erm, **EXP_PARAMS}\n",
    "if EXP_PARAMS['dataset'] == 'mimic':\n",
    "    config = {**configs_mimic_mortality.configs_mimic_mortality_erm, **EXP_PARAMS}\n",
    "\n",
    "experimental_config = argparse.Namespace(**config)"
   ]
  },
  {
   "cell_type": "code",
   "execution_count": 8,
   "metadata": {},
   "outputs": [],
   "source": [
    "trainer = baseline_trainer.init(experimental_config)"
   ]
  },
  {
   "cell_type": "code",
   "execution_count": 6,
   "metadata": {},
   "outputs": [
    {
     "name": "stderr",
     "output_type": "stream",
     "text": [
      "100%|██████████| 2/2 [00:31<00:00, 15.51s/it]\n"
     ]
    },
    {
     "name": "stdout",
     "output_type": "stream",
     "text": [
      "Time 11, acc 0.5851948051948052\n"
     ]
    },
    {
     "name": "stderr",
     "output_type": "stream",
     "text": [
      "100%|██████████| 4/4 [00:45<00:00, 11.49s/it]\n"
     ]
    },
    {
     "name": "stdout",
     "output_type": "stream",
     "text": [
      "Time 12, acc 0.5962532299741602\n"
     ]
    },
    {
     "name": "stderr",
     "output_type": "stream",
     "text": [
      "100%|██████████| 5/5 [01:15<00:00, 15.09s/it]\n"
     ]
    },
    {
     "name": "stdout",
     "output_type": "stream",
     "text": [
      "Time 13, acc 0.5384381646915831\n"
     ]
    },
    {
     "name": "stderr",
     "output_type": "stream",
     "text": [
      "100%|██████████| 8/8 [01:59<00:00, 15.00s/it]\n"
     ]
    },
    {
     "name": "stdout",
     "output_type": "stream",
     "text": [
      "Time 14, acc 0.48305031643586693\n"
     ]
    },
    {
     "name": "stderr",
     "output_type": "stream",
     "text": [
      "100%|██████████| 4/4 [00:48<00:00, 12.09s/it]\n"
     ]
    },
    {
     "name": "stdout",
     "output_type": "stream",
     "text": [
      "Time 15, acc 0.42250772483330623\n",
      "Decay 0.85: 0.5250888482259443\n"
     ]
    },
    {
     "name": "stderr",
     "output_type": "stream",
     "text": [
      "100%|██████████| 2/2 [00:29<00:00, 14.76s/it]\n"
     ]
    },
    {
     "name": "stdout",
     "output_type": "stream",
     "text": [
      "Time 11, acc 0.5836363636363636\n"
     ]
    },
    {
     "name": "stderr",
     "output_type": "stream",
     "text": [
      "100%|██████████| 4/4 [00:47<00:00, 11.96s/it]\n"
     ]
    },
    {
     "name": "stdout",
     "output_type": "stream",
     "text": [
      "Time 12, acc 0.5928617571059431\n"
     ]
    },
    {
     "name": "stderr",
     "output_type": "stream",
     "text": [
      "100%|██████████| 5/5 [01:16<00:00, 15.30s/it]\n"
     ]
    },
    {
     "name": "stdout",
     "output_type": "stream",
     "text": [
      "Time 13, acc 0.5362098652891725\n"
     ]
    },
    {
     "name": "stderr",
     "output_type": "stream",
     "text": [
      "100%|██████████| 8/8 [02:02<00:00, 15.30s/it]\n"
     ]
    },
    {
     "name": "stdout",
     "output_type": "stream",
     "text": [
      "Time 14, acc 0.4750924243373645\n"
     ]
    },
    {
     "name": "stderr",
     "output_type": "stream",
     "text": [
      "100%|██████████| 4/4 [00:48<00:00, 12.11s/it]"
     ]
    },
    {
     "name": "stdout",
     "output_type": "stream",
     "text": [
      "Time 15, acc 0.42510977394698324\n",
      "Decay 1: 0.5225820368631655\n"
     ]
    },
    {
     "name": "stderr",
     "output_type": "stream",
     "text": [
      "\n"
     ]
    }
   ],
   "source": [
    "eval_splits = [t for t in trainer.eval_dataset.ENV if t > trainer.split_time]\n",
    "\n",
    "for decay in [0.85, 1]: #  np.arange(0.5, 1, 0.1):\n",
    "   accs = []\n",
    "   trainer.create_csaw_from_ckpts(0, lambda_val=decay, wise_ft=False)\n",
    "\n",
    "   for t in eval_splits:\n",
    "      accs.append(trainer.run_eval_timestamp(t, 2)[0])\n",
    "      print(f\"Time {t}, acc {accs[-1]}\")\n",
    "\n",
    "\n",
    "   print(f\"Decay {decay}: {np.mean(accs)}\")"
   ]
  },
  {
   "cell_type": "markdown",
   "metadata": {},
   "source": [
    "100%|██████████| 2/2 [00:30<00:00, 15.28s/it]\n",
    "Time 11, acc 0.632987012987013\n",
    "100%|██████████| 4/4 [00:47<00:00, 11.86s/it]\n",
    "Time 12, acc 0.6359819121447028\n",
    "100%|██████████| 5/5 [01:16<00:00, 15.34s/it]\n",
    "Time 13, acc 0.5607211587156893\n",
    "100%|██████████| 8/8 [02:01<00:00, 15.21s/it]\n",
    "Time 14, acc 0.4977128892787769\n",
    "100%|██████████| 4/4 [00:46<00:00, 11.67s/it]\n",
    "Time 15, acc 0.4348674581232721\n",
    "Decay 0.9: 0.5524540862498908\n",
    "\n",
    "\n",
    "100%|██████████| 2/2 [00:27<00:00, 13.85s/it]\n",
    "Time 11, acc 0.6311688311688312\n",
    "100%|██████████| 4/4 [00:47<00:00, 11.90s/it]\n",
    "Time 12, acc 0.6314599483204134\n",
    "100%|██████████| 5/5 [01:15<00:00, 15.07s/it]\n",
    "Time 13, acc 0.5526182517978325\n",
    "100%|██████████| 8/8 [02:04<00:00, 15.53s/it]\n",
    "Time 14, acc 0.4930133467009211\n",
    "100%|██████████| 4/4 [00:51<00:00, 12.98s/it]\n",
    "Time 15, acc 0.4364937388193202\n",
    "Decay 1: 0.5489508233614637"
   ]
  },
  {
   "cell_type": "code",
   "execution_count": null,
   "metadata": {},
   "outputs": [],
   "source": [
    "import forgetting_main as fm\n",
    "reload(fm)\n",
    "\n",
    "trainer.swa_ewa_lambda = 0.50\n",
    "\n",
    "eval_ckpts = [f\"time_{i}.pth\" for i in range(2012, 2016)]\n",
    "data_dir = os.path.join(config['results_dir'], config['exp_path'])\n",
    "_, pred_logits, labels = fm.get_predictions(trainer,  [f\"time_{i}.pth\" for i in range(2012, 2016)], data_dir)\n"
   ]
  },
  {
   "cell_type": "code",
   "execution_count": 23,
   "metadata": {},
   "outputs": [
    {
     "data": {
      "text/plain": [
       "2015"
      ]
     },
     "execution_count": 23,
     "metadata": {},
     "output_type": "execute_result"
    }
   ],
   "source": [
    "trainer.split_time"
   ]
  },
  {
   "cell_type": "code",
   "execution_count": 3,
   "metadata": {},
   "outputs": [],
   "source": [
    "RESULTS_DIR=\"/data/tir/projects/tir6/strubell/jaredfer/projects/wild-time/results/icml\""
   ]
  },
  {
   "cell_type": "code",
   "execution_count": 37,
   "metadata": {},
   "outputs": [
    {
     "name": "stdout",
     "output_type": "stream",
     "text": [
      "huffpost/ewc/seed_0\n",
      "[0.7306543810255097, 0.6881402230821762, 0.7197943444730077] 0.7128629828602312\n",
      "[0.7319341353126866, 0.704302299112224, 0.7308483290488432] 0.7223615878245845\n",
      "Avg Diff:  0.009498604964353285\n",
      "Worst Diff:  0.016162076030047823\n",
      "\n",
      "huffpost/ft/seed_0\n",
      "[0.7283508233085915, 0.6944001821078989, 0.7233933161953727] 0.7153814405372877\n",
      "[0.7307396979779882, 0.7024812201229228, 0.7290488431876607] 0.7207565870961906\n",
      "Avg Diff:  0.005375146558902921\n",
      "Worst Diff:  0.008081038015023911\n",
      "\n",
      "huffpost/ewc/seed_1\n",
      "[0.7333845235048204, 0.6934896426132483, 0.7262210796915167] 0.7176984152698619\n",
      "[0.736114665984131, 0.7017983155019349, 0.7398457583547557] 0.7259195799469406\n",
      "Avg Diff:  0.008221164677078674\n",
      "Worst Diff:  0.008308672888686641\n",
      "\n",
      "huffpost/ft/seed_1\n",
      "[0.7239143417797116, 0.6732301388572729, 0.6917737789203084] 0.6963060865190975\n",
      "[0.7286067741660268, 0.6776690188936945, 0.6961439588688946] 0.7008065839762053\n",
      "Avg Diff:  0.004500497457107788\n",
      "Worst Diff:  0.004438880036421566\n",
      "\n",
      "huffpost/ewc/seed_2\n",
      "[0.7307396979779882, 0.6989528795811518, 0.7205655526992288] 0.716752710086123\n",
      "[0.7328726217899496, 0.700773958570453, 0.725706940874036] 0.7197845070781462\n",
      "Avg Diff:  0.0030317969920232724\n",
      "Worst Diff:  0.0018210789893011725\n",
      "\n",
      "huffpost/ft/seed_2\n",
      "[0.7293746267383329, 0.6931481903027544, 0.7267352185089975] 0.7164193451833616\n",
      "[0.7321047692176436, 0.6942863646710676, 0.7300771208226221] 0.7188227515704444\n",
      "Avg Diff:  0.002403406387082807\n",
      "Worst Diff:  0.001138174368313205\n",
      "\n",
      "fmow/ewc/seed_0\n",
      "[0.6264935064935065, 0.6085271317829457, 0.5514028157601539, 0.48204774735259104, 0.3940478126524638] 0.5325038028083322\n",
      "[0.6272727272727273, 0.6117571059431525, 0.5536311151625646, 0.4835516009775049, 0.393885184582859] 0.5340195467877616\n",
      "Avg Diff:  0.0015157439794294403\n",
      "Worst Diff:  -0.0001626280696048199\n",
      "\n",
      "fmow/ft/seed_0\n",
      "[0.5815584415584416, 0.5812338501291989, 0.5318545528208245, 0.4733379284416317, 0.40022767929744674] 0.5136424904495087\n",
      "[0.5844155844155844, 0.5868863049095607, 0.5363111516256457, 0.4765962779622783, 0.3999024231582371] 0.5168223484142613\n",
      "Avg Diff:  0.0031798579647526193\n",
      "Worst Diff:  -0.0003252561392096398\n",
      "\n",
      "fmow/ewc/seed_1\n",
      "[0.6283116883116883, 0.6206395348837209, 0.549984807049529, 0.48931637320634125, 0.4137258090746463] 0.5403956425051851\n",
      "[0.6319480519480519, 0.6295219638242894, 0.5586954319862251, 0.49564509054452033, 0.41486420556188] 0.5461349487729934\n",
      "Avg Diff:  0.005739306267808275\n",
      "Worst Diff:  0.0011383964872336838\n",
      "\n",
      "fmow/ft/seed_1\n",
      "[0.5875324675324676, 0.5773578811369509, 0.5298288260913603, 0.47546838774359296, 0.3987640266710034] 0.5137903178350751\n",
      "[0.5901298701298702, 0.5828488372093024, 0.5378304466727438, 0.4812331599724293, 0.4046186371767767] 0.5193321902322245\n",
      "Avg Diff:  0.005541872397149428\n",
      "Worst Diff:  0.0058546105057732944\n",
      "\n",
      "fmow/ewc/seed_2\n",
      "[0.6161038961038962, 0.6130490956072352, 0.5500860933860022, 0.4786014161288301, 0.40250447227191416] 0.5320689946995756\n",
      "[0.6161038961038962, 0.6130490956072352, 0.5501873797224754, 0.4786640766965349, 0.40234184420230934] 0.5320692584664901\n",
      "Avg Diff:  2.6376691453222634e-07\n",
      "Worst Diff:  -0.0001626280696048199\n",
      "\n",
      "fmow/ft/seed_2\n",
      "[0.5854545454545454, 0.5775193798449613, 0.5323609845031905, 0.4742151763894981, 0.39437306879167344] 0.5127846309967737\n",
      "[0.5922077922077922, 0.584140826873385, 0.5382355920186367, 0.4778494893163732, 0.4007155635062612] 0.5186298527844897\n",
      "Avg Diff:  0.00584522178771596\n",
      "Worst Diff:  0.006342494714587754\n",
      "\n",
      "arxiv/ewc/seed_0\n",
      "[0.5495253767398124, 0.5339866479728601, 0.5181869759818445, 0.5039737612490512, 0.516726147351097, 0.5242482880317629] 0.5244411995544047\n",
      "[0.5553294801436435, 0.5396529054098229, 0.5235390531425329, 0.5082944811883335, 0.5207779894634216, 0.5279679964707887] 0.5292603176364239\n",
      "Avg Diff:  0.00481911808201918\n",
      "Worst Diff:  0.0043207199392822915\n",
      "\n",
      "arxiv/ft/seed_0\n",
      "[0.5257739480062581, 0.5098614672700988, 0.4928954170081321, 0.48079258375799633, 0.4918023989051976, 0.49891216073953015] 0.5000063292812023\n",
      "[0.5277843078444565, 0.5112271806010592, 0.4942885961041417, 0.4810690664642741, 0.4924777059239184, 0.49917284111531096] 0.5010032830088601\n",
      "Avg Diff:  0.0009969537276578455\n",
      "Worst Diff:  0.0002764827062777808\n",
      "\n",
      "arxiv/ewc/seed_1\n",
      "[0.5534082894918168, 0.5393477992401403, 0.5244846498140326, 0.5074487693808956, 0.5210150177547607, 0.5296824712499624] 0.529231166155268\n",
      "[0.5574776469062346, 0.54314709749595, 0.526564962491332, 0.5088149192236799, 0.5212609905099239, 0.5301336488234292] 0.5312332109084249\n",
      "Avg Diff:  0.0020020447531569063\n",
      "Worst Diff:  0.001366149842784381\n",
      "\n",
      "arxiv/ft/seed_1\n",
      "[0.5530272938773194, 0.5353305680059859, 0.5183382714492845, 0.5013119375474357, 0.5132735843149883, 0.5200372973460733] 0.5235531587568478\n",
      "[0.5566994430978996, 0.5395148811902046, 0.5215280842211435, 0.5048086305974195, 0.5163996744215168, 0.5239274506461865] 0.5271463606957284\n",
      "Avg Diff:  0.0035932019388805747\n",
      "Worst Diff:  0.00349669304998379\n",
      "\n",
      "arxiv/ewc/seed_2\n",
      "[0.5584179765079725, 0.5433069150134029, 0.5252348231734224, 0.5117261194838989, 0.5227591882004633, 0.5304645123773047] 0.5319849224594108\n",
      "[0.5591313299989462, 0.5442222335224507, 0.5255121981970623, 0.5115255339911092, 0.5228531050706166, 0.5315072338804279] 0.5324586057767688\n",
      "Avg Diff:  0.0004736833173580868\n",
      "Worst Diff:  -0.0002005854927896733\n",
      "\n",
      "arxiv/ft/seed_2\n",
      "[0.5239743516994836, 0.508604720428311, 0.4922271953602723, 0.47848856120568145, 0.4902952567508341, 0.4981902766219834] 0.4986300603444276\n",
      "[0.5276383946303937, 0.5111908584380017, 0.49478030637332154, 0.4809226932668329, 0.49262976180892837, 0.5004261121527186] 0.5012646877783662\n",
      "Avg Diff:  0.0026346274339386078\n",
      "Worst Diff:  0.0024341320611514505\n",
      "\n"
     ]
    }
   ],
   "source": [
    "dataset = \"arxiv\"\n",
    "init = \"ws\"\n",
    "\n",
    "for dataset in ['huffpost', 'fmow', 'arxiv']:\n",
    "    for seed in range(3):\n",
    "        for method in ['ewc', 'ft']:\n",
    "            EXP=f\"{dataset}/{method}/seed_{seed}\"\n",
    "            data_fpath = os.path.join(RESULTS_DIR, EXP, f'preds_meta_swa_opt.pkl')\n",
    "            data_swa = forgetting.load_predictions_and_metadata(data_fpath)\n",
    "\n",
    "\n",
    "            data_fpath = os.path.join(RESULTS_DIR, EXP, 'preds_meta_swa_1.0.pkl')\n",
    "            data = forgetting.load_predictions_and_metadata(data_fpath)\n",
    "            \n",
    "            data = add_confidence_stability(data)\n",
    "            data_swa = add_confidence_stability(data_swa)\n",
    "\n",
    "            corr = [_[-1].mean() for _ in data['corr']]\n",
    "            corr_swa = [_[-1].mean() for _ in data_swa['corr']]\n",
    "\n",
    "            print(EXP)\n",
    "            print(corr, np.mean(corr))\n",
    "            print(corr_swa, np.mean(corr_swa))\n",
    "            print(\"Avg Diff: \", np.mean(corr_swa)- np.mean(corr))\n",
    "            print(\"Worst Diff: \", np.min(corr_swa)- np.min(corr))\n",
    "\n",
    "\n",
    "            print()"
   ]
  },
  {
   "cell_type": "code",
   "execution_count": 22,
   "metadata": {},
   "outputs": [],
   "source": [
    "from collections import defaultdict\n",
    "def add_confidence_stability(data):\n",
    "    data['corr'] = []\n",
    "    data['confidence_pred'] = []\n",
    "    data['stability_pred'] = []\n",
    "    data['confidence_pred_mean'] = []\n",
    "    data['confidence_pred_delta'] = []\n",
    "\n",
    "    data['confidence_gt'] = []\n",
    "    data['stability_gt'] = []\n",
    "    data['confidence_gt_mean'] = []\n",
    "    data['confidence_gt_delta'] = []\n",
    "\n",
    "    for i in range(len(data['labels'])):\n",
    "        pred_probs = data['pred_probs'][i]\n",
    "        pred_labels = data['pred_labels'][i]\n",
    "        labels = data['labels'][i]\n",
    "\n",
    "\n",
    "\n",
    "        data['corr'].append(labels == pred_labels)\n",
    "        data['confidence_pred'].append(pred_probs.max(axis=2))\n",
    "        data['stability_pred'].append(data['confidence_pred'][-1].std(axis=0))\n",
    "        data['confidence_pred_mean'].append(data['confidence_pred'][-1].mean(axis=0))\n",
    "        data['confidence_pred_delta'].append(data['confidence_pred'][-1][-1] - data['confidence_pred'][-1][0])\n",
    "\n",
    "        data['confidence_gt'].append(pred_probs[np.arange(labels.shape[0])[:, None], np.arange(labels.shape[1]), labels])\n",
    "        data['stability_gt'].append(data['confidence_gt'][-1].std(axis=0))\n",
    "        data['confidence_gt_mean'].append(data['confidence_gt'][-1].mean(axis=0))\n",
    "        data['confidence_gt_delta'].append(data['confidence_gt'][-1][-1] - data['confidence_gt'][-1][0])\n",
    "    return data\n",
    "\n",
    "\n",
    "# confidence = pred_probs[:, labels]\n",
    "# confidence.shape"
   ]
  },
  {
   "cell_type": "code",
   "execution_count": 27,
   "metadata": {},
   "outputs": [
    {
     "data": {
      "image/png": "[encoded data removed]",
      "text/plain": [
       "<Figure size 640x480 with 1 Axes>"
      ]
     },
     "metadata": {},
     "output_type": "display_data"
    },
    {
     "data": {
      "image/png": "[encoded data removed]",
      "text/plain": [
       "<Figure size 640x480 with 1 Axes>"
      ]
     },
     "metadata": {},
     "output_type": "display_data"
    },
    {
     "data": {
      "image/png": "[encoded data removed]",
      "text/plain": [
       "<Figure size 640x480 with 1 Axes>"
      ]
     },
     "metadata": {},
     "output_type": "display_data"
    }
   ],
   "source": [
    "data = add_confidence_stability(data)\n",
    "data_swa = add_confidence_stability(data_swa)\n",
    "\n",
    "for i in range(3):\n",
    "    plt.hist(data_swa['confidence_gt_mean'][i], alpha=0.50, label=\"CSAW\")\n",
    "    plt.hist(data['confidence_gt_mean'][i], alpha=0.50, label=\"Baseline\")\n",
    "    plt.legend()\n",
    "    plt.show()\n",
    "\n",
    "# plt.hist(confidence_gt_mean)"
   ]
  },
  {
   "cell_type": "code",
   "execution_count": 254,
   "metadata": {},
   "outputs": [],
   "source": [
    "transferred = data['transferred'][0]\n",
    "hard = data['hard'][0]"
   ]
  },
  {
   "cell_type": "code",
   "execution_count": 33,
   "metadata": {},
   "outputs": [
    {
     "data": {
      "image/png": "[encoded data removed]",
      "text/plain": [
       "<Figure size 640x480 with 1 Axes>"
      ]
     },
     "metadata": {},
     "output_type": "display_data"
    },
    {
     "data": {
      "image/png": "[encoded data removed]",
      "text/plain": [
       "<Figure size 640x480 with 1 Axes>"
      ]
     },
     "metadata": {},
     "output_type": "display_data"
    }
   ],
   "source": [
    "import matplotlib.pyplot as plt\n",
    "plt.scatter(data['stability_pred'][0], data['confidence_pred_mean'][0])\n",
    "plt.title('Predicted Map')\n",
    "plt.xlabel('Variability')\n",
    "plt.ylabel('Confidence')\n",
    "plt.show()\n",
    "\n",
    "plt.scatter(data['stability_gt'][0], data['confidence_gt_mean'][0])\n",
    "plt.title('GT Map')\n",
    "plt.xlabel('Variability')\n",
    "plt.ylabel('Confidence')\n",
    "plt.show()\n",
    "\n"
   ]
  },
  {
   "cell_type": "code",
   "execution_count": 365,
   "metadata": {},
   "outputs": [
    {
     "name": "stdout",
     "output_type": "stream",
     "text": [
      "Eval on 0\n",
      "Transferred [ 17  23  10 -28  28  17  36  18   5  10] 13.6\n",
      "Learned [ 17   5  -4  43   7  12 -19 -20   2   1] 4.4\n",
      "Eval on 1\n",
      "Transferred [ -7   5  -1   6  -3   0  12 -52   9  26] -0.5\n",
      "Learned [22 46 29 -1 44 30 -9 57 -3  9] 22.4\n",
      "Eval on 2\n",
      "Transferred [-10  13   6 -21  -6  57 -27  24 -30  22] 2.8\n",
      "Learned [ 15  38  39  15  71  -3  53 -15  32  22] 26.7\n",
      "Eval on 3\n",
      "Transferred [-10  47  77   7  36  46   7  52  35  53] 35.0\n",
      "Learned [ 37  35 -23  27  94   4  14 -82  10  -1] 11.5\n",
      "Eval on 4\n",
      "Transferred [-23  -7  25  -2  -4   1 -27  14  23   5] 0.5\n",
      "Learned [ 30  17  10   2  40  37  39 -40 -11  -7] 11.7\n"
     ]
    }
   ],
   "source": [
    "corr = forgetting.get_correctness(data)\n",
    "corr_swa = forgetting.get_correctness(data_swa)\n",
    "DIFF_ALL=False\n",
    "ft_events = forgetting.evaluate_method(corr, corr, diff_all=DIFF_ALL)\n",
    "csaw_events = forgetting.evaluate_method(corr, corr_swa, diff_all=DIFF_ALL)\n",
    "\n",
    "for t in range(len(ft_events[0])):\n",
    "    print(f\"Eval on {t}\")\n",
    "    transferred =np.array(csaw_events[0][t]) - np.array(ft_events[0][t]) \n",
    "    learned = np.array(csaw_events[2][t]) - np.array(ft_events[2][t])\n",
    "    print(\"Transferred\", transferred, transferred.mean())\n",
    "    print(\"Learned\",  learned, learned.mean())\n",
    "    # print(\"Forgotten\", np.array(csaw_events[3][t]) - np.array(ft_events[3][t]), '\\n')\n"
   ]
  },
  {
   "cell_type": "code",
   "execution_count": null,
   "metadata": {},
   "outputs": [],
   "source": [
    "# FT WS\n",
    "[_[-1].mean() for _ in corr], [_[-1].mean() for _ in corr_swa]"
   ]
  },
  {
   "cell_type": "code",
   "execution_count": 368,
   "metadata": {},
   "outputs": [
    {
     "data": {
      "text/plain": [
       "([0.5815584415584416,\n",
       "  0.5812338501291989,\n",
       "  0.5318545528208245,\n",
       "  0.4733379284416317,\n",
       "  0.40022767929744674],\n",
       " [0.5844155844155844,\n",
       "  0.5868863049095607,\n",
       "  0.5363111516256457,\n",
       "  0.4765962779622783,\n",
       "  0.3999024231582371])"
      ]
     },
     "execution_count": 368,
     "metadata": {},
     "output_type": "execute_result"
    }
   ],
   "source": [
    "[_[-1].mean() for _ in corr], [_[-1].mean() for _ in corr_swa]"
   ]
  },
  {
   "cell_type": "code",
   "execution_count": null,
   "metadata": {},
   "outputs": [],
   "source": [
    "[[_, corr[-1][_].mean()] for _ in range(11)]"
   ]
  },
  {
   "cell_type": "code",
   "execution_count": 28,
   "metadata": {},
   "outputs": [
    {
     "name": "stdout",
     "output_type": "stream",
     "text": [
      "0.7128629828602312\n",
      "0.7228740468904705\n"
     ]
    }
   ],
   "source": []
  },
  {
   "cell_type": "code",
   "execution_count": 48,
   "metadata": {},
   "outputs": [
    {
     "name": "stdout",
     "output_type": "stream",
     "text": [
      "[0.581038961038961, 0.5915697674418605, 0.5317532664843513, 0.47383921298326964, 0.42071881606765327]\n",
      "[0.5844155844155844, 0.5868863049095607, 0.5363111516256457, 0.4765962779622783, 0.3999024231582371]\n"
     ]
    }
   ],
   "source": [
    "print(([_[-1].mean() for _ in corr]))\n",
    "print(([_[-1].mean() for _ in corr_swa]))\n",
    "\n",
    "\n"
   ]
  },
  {
   "cell_type": "code",
   "execution_count": null,
   "metadata": {},
   "outputs": [],
   "source": [
    "sankey_nodes = construct_example_flow_graph(data_swa['transferred'][-1][6:], data_swa['hard'][-1][6:], data_swa['learned'][-1][6:], data_swa['forgotten'][-1][6:])\n",
    "source, target,value, node_labels, color, node_heights = convert_flow_graph_to_plotly(sankey_nodes)\n",
    "plot_sankey(source, target,value, node_labels, color, node_heights / max(node_heights), title=f\"CSAW: {data['model']}\").show()"
   ]
  },
  {
   "cell_type": "code",
   "execution_count": null,
   "metadata": {},
   "outputs": [],
   "source": [
    "sankey_nodes = construct_example_flow_graph(data['transferred'][-1][6:], data['hard'][-1][6:], data['learned'][-1][6:], data['forgotten'][-1][6:])\n",
    "source, target,value, node_labels, color, node_heights = convert_flow_graph_to_plotly(sankey_nodes)\n",
    "plot_sankey(source, target,value, node_labels, color, node_heights / max(node_heights), title=f\"FT: {data['model']}\").show()"
   ]
  },
  {
   "cell_type": "code",
   "execution_count": null,
   "metadata": {},
   "outputs": [],
   "source": [
    "sankey_nodes = construct_example_flow_graph(data['transferred'][-1][8:], data['hard'][-1][8:], data['learned'][-1][8:], data['forgotten'][-1][8:])\n",
    "source, target,value, node_labels, color, node_heights = convert_flow_graph_to_plotly(sankey_nodes)\n",
    "plot_sankey(source, target,value, node_labels, color, node_heights / max(node_heights), title=f\"Splits 11: {data['model']}\").show()"
   ]
  },
  {
   "cell_type": "code",
   "execution_count": null,
   "metadata": {},
   "outputs": [],
   "source": [
    "\n",
    "transferred, hard, learned, forgotten = find_learning_and_forgetting_events(np.hstack(labels), pred_labels=np.hstack(pred_labels))\n",
    "\n",
    "sankey_nodes = construct_example_flow_graph(transferred, hard, learned, forgotten)\n",
    "\n",
    "# source, target,value, labels, color, node_heights\n",
    "source, target,value, node_labels, color, node_heights = convert_flow_graph_to_plotly(\n",
    "    sankey_nodes, learned, forgotten\n",
    ")\n",
    "plot_sankey([], color, source, target, value, title=f\"All Eval Splits: {MODEL}\").show()"
   ]
  },
  {
   "cell_type": "code",
   "execution_count": null,
   "metadata": {},
   "outputs": [],
   "source": [
    "MODEL = \"Warmstart FT\"\n",
    "for split, label, pred_label in zip(eval_splits, labels, pred_labels):\n",
    "    transferred, hard, learned, forgotten = find_learning_and_forgetting_events(label, pred_labels=pred_label)\n",
    "\n",
    "    sankey_nodes = construct_example_flow_graph(transferred, hard, learned, forgotten)\n",
    "    source, target,value, node_labels, color, node_heights = convert_flow_graph_to_plotly(sankey_nodes)\n",
    "    plot_sankey([], color, source, target, value, title=f\"at time {split}: {MODEL}\").show()"
   ]
  }
 ],
 "metadata": {
  "kernelspec": {
   "display_name": "wild-time",
   "language": "python",
   "name": "python3"
  },
  "language_info": {
   "codemirror_mode": {
    "name": "ipython",
    "version": 3
   },
   "file_extension": ".py",
   "mimetype": "text/x-python",
   "name": "python",
   "nbconvert_exporter": "python",
   "pygments_lexer": "ipython3",
   "version": "3.8.16"
  }
 },
 "nbformat": 4,
 "nbformat_minor": 4
}
